{
 "cells": [
  {
   "cell_type": "markdown",
   "metadata": {},
   "source": [
    "# Evaluating Segment Anything (SAM)\n",
    "\n",
    "Here is an example for evaluating the automatic and interactive segmentation capability of SAM and `µsam` on differential interference contrast microscopic images from the Cell Tracking Challenge (DIC-C2DH-HeLa: HeLa cells on a flat glass - https://doi.org/10.1038/s41592-023-01879-y).\n",
    "\n",
    "With the scripts below, you can validate the quality of the Segment Anything models to perform interactive segmentation.\n",
    "\n",
    "We compare three settings in batched mode for all images:\n",
    "1. Automatic Mask Generation (AMG): The \"Segment Anything\" feature where a grid of positive point prompts are sampled over the entire image to perform instance segmentation.\n",
    "2. Automatic Instance Segmentation (AIS): The feature in `µsam` (Segment Anything for Microscopy) where we introduce an additional decoder to perform automatic instance segmentation.\n",
    "3. Interactive Segmentation using Input Prompts derived from ground-truth objects."
   ]
  },
  {
   "cell_type": "markdown",
   "metadata": {},
   "source": [
    "## Let's check, where are you now?\n",
    "\n",
    "**NOTE**: The scripts have been tested on our recommended open-source cloud servers, [Kaggle Notebooks](https://www.kaggle.com/code/)."
   ]
  },
  {
   "cell_type": "code",
   "execution_count": 1,
   "metadata": {
    "_cell_guid": "b1076dfc-b9ad-4769-8c92-a6c4dae69d19",
    "_uuid": "8f2839f25d086af736a60e9eeb907d3b93b6e0e5",
    "execution": {
     "iopub.execute_input": "2024-05-04T21:44:14.064291Z",
     "iopub.status.busy": "2024-05-04T21:44:14.063977Z",
     "iopub.status.idle": "2024-05-04T21:44:14.078175Z",
     "shell.execute_reply": "2024-05-04T21:44:14.077125Z",
     "shell.execute_reply.started": "2024-05-04T21:44:14.064252Z"
    }
   },
   "outputs": [
    {
     "name": "stdout",
     "output_type": "stream",
     "text": [
      "Kaggle says hi!\n"
     ]
    }
   ],
   "source": [
    "import os\n",
    "current_spot = os.getcwd()\n",
    "\n",
    "if current_spot.startswith(\"/kaggle/working\"):\n",
    "    using_kaggle = True\n",
    "    print(\"Kaggle says hi!\")\n",
    "    root_dir = \"/kaggle/working\"\n",
    "\n",
    "else:\n",
    "    if current_spot.startswith(\"/content\"):\n",
    "        using_colab = True\n",
    "        print(\"Google Colab says hi!\")\n",
    "        print(\" NOTE: The scripts have not been tested on Google Colab, you might need to adapt the installations a bit.\")\n",
    "        root_dir = \"/content\"\n",
    "\n",
    "        # You might need to install condacolab on Google Colab to be able to install packages using conda / mamba\n",
    "        # !pip install -q condacolab\n",
    "        # import condacolab\n",
    "        # condacolab.install()\n",
    "    \n",
    "    else:\n",
    "        msg = \"You are using a behind-the-scenes resource. Follow our installation instructions here:\"\n",
    "        msg += \" https://computational-cell-analytics.github.io/micro-sam/micro_sam.html#installation\"\n",
    "        print(msg)\n",
    "        root_dir = \"\"  # overwrite to set the root directory, where the data, checkpoints, and all relevant stuff will be stored"
   ]
  },
  {
   "cell_type": "markdown",
   "metadata": {},
   "source": [
    "## Installation\n",
    "\n",
    "Let's install all the relevant dependencies required for inference."
   ]
  },
  {
   "cell_type": "code",
   "execution_count": 2,
   "metadata": {
    "execution": {
     "iopub.execute_input": "2024-05-04T21:44:14.080155Z",
     "iopub.status.busy": "2024-05-04T21:44:14.079850Z",
     "iopub.status.idle": "2024-05-04T21:44:14.268405Z",
     "shell.execute_reply": "2024-05-04T21:44:14.267431Z",
     "shell.execute_reply.started": "2024-05-04T21:44:14.080123Z"
    }
   },
   "outputs": [
    {
     "data": {
      "text/plain": [
       "'2023.12.9'"
      ]
     },
     "execution_count": 2,
     "metadata": {},
     "output_type": "execute_result"
    }
   ],
   "source": [
    "import tifffile\n",
    "tifffile.__version__"
   ]
  },
  {
   "cell_type": "code",
   "execution_count": 3,
   "metadata": {
    "execution": {
     "iopub.execute_input": "2024-05-04T21:44:19.450688Z",
     "iopub.status.busy": "2024-05-04T21:44:19.450317Z",
     "iopub.status.idle": "2024-05-04T21:44:50.915393Z",
     "shell.execute_reply": "2024-05-04T21:44:50.913985Z",
     "shell.execute_reply.started": "2024-05-04T21:44:19.450660Z"
    }
   },
   "outputs": [
    {
     "name": "stdout",
     "output_type": "stream",
     "text": [
      "Branch 'u-eval' set up to track remote branch 'u-eval' from 'origin'.\n",
      "Switched to a new branch 'u-eval'\n"
     ]
    }
   ],
   "source": [
    "!git clone --quiet https://github.com/computational-cell-analytics/micro-sam.git\n",
    "tmp_dir = os.path.join(root_dir, \"micro-sam\")\n",
    "!pip install --quiet $tmp_dir"
   ]
  },
  {
   "cell_type": "code",
   "execution_count": 4,
   "metadata": {
    "execution": {
     "iopub.execute_input": "2024-05-04T21:44:50.917830Z",
     "iopub.status.busy": "2024-05-04T21:44:50.917466Z",
     "iopub.status.idle": "2024-05-04T21:45:07.679259Z",
     "shell.execute_reply": "2024-05-04T21:45:07.678080Z",
     "shell.execute_reply.started": "2024-05-04T21:44:50.917796Z"
    }
   },
   "outputs": [],
   "source": [
    "!git clone --quiet https://github.com/constantinpape/torch-em.git\n",
    "tmp_dir = os.path.join(root_dir, \"torch-em\")\n",
    "!pip install --quiet $tmp_dir"
   ]
  },
  {
   "cell_type": "code",
   "execution_count": 5,
   "metadata": {
    "execution": {
     "iopub.execute_input": "2024-05-04T21:45:07.680930Z",
     "iopub.status.busy": "2024-05-04T21:45:07.680657Z",
     "iopub.status.idle": "2024-05-04T21:45:24.217947Z",
     "shell.execute_reply": "2024-05-04T21:45:24.216679Z",
     "shell.execute_reply.started": "2024-05-04T21:45:07.680903Z"
    }
   },
   "outputs": [],
   "source": [
    "!git clone --quiet https://github.com/constantinpape/elf.git\n",
    "tmp_dir = os.path.join(root_dir, \"elf\")\n",
    "!pip install --quiet $tmp_dir"
   ]
  },
  {
   "cell_type": "code",
   "execution_count": 6,
   "metadata": {
    "execution": {
     "iopub.execute_input": "2024-05-04T21:45:24.220872Z",
     "iopub.status.busy": "2024-05-04T21:45:24.220548Z",
     "iopub.status.idle": "2024-05-04T21:46:48.480726Z",
     "shell.execute_reply": "2024-05-04T21:46:48.479468Z",
     "shell.execute_reply.started": "2024-05-04T21:45:24.220841Z"
    }
   },
   "outputs": [
    {
     "name": "stdout",
     "output_type": "stream",
     "text": [
      "\u001b[33m\u001b[1mwarning  libmamba\u001b[m Cache file \"/opt/conda/pkgs/cache/497deca9.json\" was modified by another program\n",
      "\u001b[33m\u001b[1mwarning  libmamba\u001b[m Cache file \"/opt/conda/pkgs/cache/09cdf8bf.json\" was modified by another program\n",
      "\u001b[33m\u001b[1mwarning  libmamba\u001b[m Cache file \"/opt/conda/pkgs/cache/c6f2354e.json\" was modified by another program\n",
      "\u001b[33m\u001b[1mwarning  libmamba\u001b[m Cache file \"/opt/conda/pkgs/cache/86b0f08d.json\" was modified by another program\n",
      "\u001b[33m\u001b[1mwarning  libmamba\u001b[m Cache file \"/opt/conda/pkgs/cache/c9ddbd6b.json\" was modified by another program\n",
      "\u001b[33m\u001b[1mwarning  libmamba\u001b[m Cache file \"/opt/conda/pkgs/cache/b121c3e7.json\" was modified by another program\n",
      "\u001b[33m\u001b[1mwarning  libmamba\u001b[m Cache file \"/opt/conda/pkgs/cache/47929eba.json\" was modified by another program\n",
      "\u001b[33m\u001b[1mwarning  libmamba\u001b[m Cache file \"/opt/conda/pkgs/cache/3e39a7aa.json\" was modified by another program\n",
      "\u001b[33m\u001b[1mwarning  libmamba\u001b[m Cache file \"/opt/conda/pkgs/cache/2ce54b42.json\" was modified by another program\n",
      "\u001b[33m\u001b[1mwarning  libmamba\u001b[m Cache file \"/opt/conda/pkgs/cache/4ea078d6.json\" was modified by another program\n",
      "Preparing transaction: ...working... done\n",
      "Verifying transaction: ...working... done\n",
      "Executing transaction: ...working... done\n"
     ]
    }
   ],
   "source": [
    "!mamba install -q -y -c conda-forge nifty affogato zarr z5py\n",
    "!pip uninstall -y --quiet qtpy  # qtpy is not supported in Kaggle / Google Colab, let's remove it to avoid errors."
   ]
  },
  {
   "cell_type": "markdown",
   "metadata": {},
   "source": [
    "## Importing the libraries"
   ]
  },
  {
   "cell_type": "code",
   "execution_count": 7,
   "metadata": {
    "execution": {
     "iopub.execute_input": "2024-05-04T21:46:48.482513Z",
     "iopub.status.busy": "2024-05-04T21:46:48.482210Z",
     "iopub.status.idle": "2024-05-04T21:47:07.965841Z",
     "shell.execute_reply": "2024-05-04T21:47:07.964844Z",
     "shell.execute_reply.started": "2024-05-04T21:46:48.482484Z"
    }
   },
   "outputs": [
    {
     "name": "stderr",
     "output_type": "stream",
     "text": [
      "2024-05-04 21:46:57.737845: E external/local_xla/xla/stream_executor/cuda/cuda_dnn.cc:9261] Unable to register cuDNN factory: Attempting to register factory for plugin cuDNN when one has already been registered\n",
      "2024-05-04 21:46:57.737940: E external/local_xla/xla/stream_executor/cuda/cuda_fft.cc:607] Unable to register cuFFT factory: Attempting to register factory for plugin cuFFT when one has already been registered\n",
      "2024-05-04 21:46:57.859988: E external/local_xla/xla/stream_executor/cuda/cuda_blas.cc:1515] Unable to register cuBLAS factory: Attempting to register factory for plugin cuBLAS when one has already been registered\n"
     ]
    }
   ],
   "source": [
    "from glob import glob\n",
    "\n",
    "import imageio.v3 as imageio\n",
    "from matplotlib import pyplot as plt\n",
    "\n",
    "from torch_em.util.util import get_random_colors\n",
    "\n",
    "from micro_sam.util import get_sam_model\n",
    "from micro_sam.evaluation import inference\n",
    "from micro_sam.evaluation.model_comparison import _enhance_image\n",
    "from micro_sam.sample_data import fetch_tracking_example_data, fetch_tracking_segmentation_data\n",
    "from micro_sam.evaluation.evaluation import run_evaluation, run_evaluation_for_iterative_prompting"
   ]
  },
  {
   "cell_type": "markdown",
   "metadata": {},
   "source": [
    "## Let's download the dataset"
   ]
  },
  {
   "cell_type": "code",
   "execution_count": 8,
   "metadata": {
    "execution": {
     "iopub.execute_input": "2024-05-04T21:47:07.967379Z",
     "iopub.status.busy": "2024-05-04T21:47:07.967088Z",
     "iopub.status.idle": "2024-05-04T21:47:10.801916Z",
     "shell.execute_reply": "2024-05-04T21:47:10.801162Z",
     "shell.execute_reply.started": "2024-05-04T21:47:07.967355Z"
    }
   },
   "outputs": [
    {
     "name": "stderr",
     "output_type": "stream",
     "text": [
      "Downloading data from 'http://data.celltrackingchallenge.net/training-datasets/DIC-C2DH-HeLa.zip' to file '/kaggle/working/data/DIC-C2DH-HeLa.zip'.\n",
      "100%|█████████████████████████████████████| 41.5M/41.5M [00:00<00:00, 49.0GB/s]\n",
      "Extracting 'DIC-C2DH-HeLa/01/t000.tif' from '/kaggle/working/data/DIC-C2DH-HeLa.zip' to '/kaggle/working/data/DIC-C2DH-HeLa.zip.unzip'\n",
      "Extracting 'DIC-C2DH-HeLa/01/t001.tif' from '/kaggle/working/data/DIC-C2DH-HeLa.zip' to '/kaggle/working/data/DIC-C2DH-HeLa.zip.unzip'\n",
      "Extracting 'DIC-C2DH-HeLa/01/t002.tif' from '/kaggle/working/data/DIC-C2DH-HeLa.zip' to '/kaggle/working/data/DIC-C2DH-HeLa.zip.unzip'\n",
      "Extracting 'DIC-C2DH-HeLa/01/t003.tif' from '/kaggle/working/data/DIC-C2DH-HeLa.zip' to '/kaggle/working/data/DIC-C2DH-HeLa.zip.unzip'\n",
      "Extracting 'DIC-C2DH-HeLa/01/t004.tif' from '/kaggle/working/data/DIC-C2DH-HeLa.zip' to '/kaggle/working/data/DIC-C2DH-HeLa.zip.unzip'\n",
      "Extracting 'DIC-C2DH-HeLa/01/t005.tif' from '/kaggle/working/data/DIC-C2DH-HeLa.zip' to '/kaggle/working/data/DIC-C2DH-HeLa.zip.unzip'\n",
      "Extracting 'DIC-C2DH-HeLa/01/t006.tif' from '/kaggle/working/data/DIC-C2DH-HeLa.zip' to '/kaggle/working/data/DIC-C2DH-HeLa.zip.unzip'\n",
      "Extracting 'DIC-C2DH-HeLa/01/t007.tif' from '/kaggle/working/data/DIC-C2DH-HeLa.zip' to '/kaggle/working/data/DIC-C2DH-HeLa.zip.unzip'\n",
      "Extracting 'DIC-C2DH-HeLa/01/t008.tif' from '/kaggle/working/data/DIC-C2DH-HeLa.zip' to '/kaggle/working/data/DIC-C2DH-HeLa.zip.unzip'\n",
      "Extracting 'DIC-C2DH-HeLa/01/t009.tif' from '/kaggle/working/data/DIC-C2DH-HeLa.zip' to '/kaggle/working/data/DIC-C2DH-HeLa.zip.unzip'\n",
      "Extracting 'DIC-C2DH-HeLa/01/t010.tif' from '/kaggle/working/data/DIC-C2DH-HeLa.zip' to '/kaggle/working/data/DIC-C2DH-HeLa.zip.unzip'\n",
      "Extracting 'DIC-C2DH-HeLa/01/t011.tif' from '/kaggle/working/data/DIC-C2DH-HeLa.zip' to '/kaggle/working/data/DIC-C2DH-HeLa.zip.unzip'\n",
      "Extracting 'DIC-C2DH-HeLa/01/t012.tif' from '/kaggle/working/data/DIC-C2DH-HeLa.zip' to '/kaggle/working/data/DIC-C2DH-HeLa.zip.unzip'\n",
      "Extracting 'DIC-C2DH-HeLa/01/t013.tif' from '/kaggle/working/data/DIC-C2DH-HeLa.zip' to '/kaggle/working/data/DIC-C2DH-HeLa.zip.unzip'\n",
      "Extracting 'DIC-C2DH-HeLa/01/t014.tif' from '/kaggle/working/data/DIC-C2DH-HeLa.zip' to '/kaggle/working/data/DIC-C2DH-HeLa.zip.unzip'\n",
      "Extracting 'DIC-C2DH-HeLa/01/t015.tif' from '/kaggle/working/data/DIC-C2DH-HeLa.zip' to '/kaggle/working/data/DIC-C2DH-HeLa.zip.unzip'\n",
      "Extracting 'DIC-C2DH-HeLa/01/t016.tif' from '/kaggle/working/data/DIC-C2DH-HeLa.zip' to '/kaggle/working/data/DIC-C2DH-HeLa.zip.unzip'\n",
      "Extracting 'DIC-C2DH-HeLa/01/t017.tif' from '/kaggle/working/data/DIC-C2DH-HeLa.zip' to '/kaggle/working/data/DIC-C2DH-HeLa.zip.unzip'\n",
      "Extracting 'DIC-C2DH-HeLa/01/t018.tif' from '/kaggle/working/data/DIC-C2DH-HeLa.zip' to '/kaggle/working/data/DIC-C2DH-HeLa.zip.unzip'\n",
      "Extracting 'DIC-C2DH-HeLa/01/t019.tif' from '/kaggle/working/data/DIC-C2DH-HeLa.zip' to '/kaggle/working/data/DIC-C2DH-HeLa.zip.unzip'\n",
      "Extracting 'DIC-C2DH-HeLa/01/t020.tif' from '/kaggle/working/data/DIC-C2DH-HeLa.zip' to '/kaggle/working/data/DIC-C2DH-HeLa.zip.unzip'\n",
      "Extracting 'DIC-C2DH-HeLa/01/t021.tif' from '/kaggle/working/data/DIC-C2DH-HeLa.zip' to '/kaggle/working/data/DIC-C2DH-HeLa.zip.unzip'\n",
      "Extracting 'DIC-C2DH-HeLa/01/t022.tif' from '/kaggle/working/data/DIC-C2DH-HeLa.zip' to '/kaggle/working/data/DIC-C2DH-HeLa.zip.unzip'\n",
      "Extracting 'DIC-C2DH-HeLa/01/t023.tif' from '/kaggle/working/data/DIC-C2DH-HeLa.zip' to '/kaggle/working/data/DIC-C2DH-HeLa.zip.unzip'\n",
      "Extracting 'DIC-C2DH-HeLa/01/t024.tif' from '/kaggle/working/data/DIC-C2DH-HeLa.zip' to '/kaggle/working/data/DIC-C2DH-HeLa.zip.unzip'\n",
      "Extracting 'DIC-C2DH-HeLa/01/t025.tif' from '/kaggle/working/data/DIC-C2DH-HeLa.zip' to '/kaggle/working/data/DIC-C2DH-HeLa.zip.unzip'\n",
      "Extracting 'DIC-C2DH-HeLa/01/t026.tif' from '/kaggle/working/data/DIC-C2DH-HeLa.zip' to '/kaggle/working/data/DIC-C2DH-HeLa.zip.unzip'\n",
      "Extracting 'DIC-C2DH-HeLa/01/t027.tif' from '/kaggle/working/data/DIC-C2DH-HeLa.zip' to '/kaggle/working/data/DIC-C2DH-HeLa.zip.unzip'\n",
      "Extracting 'DIC-C2DH-HeLa/01/t028.tif' from '/kaggle/working/data/DIC-C2DH-HeLa.zip' to '/kaggle/working/data/DIC-C2DH-HeLa.zip.unzip'\n",
      "Extracting 'DIC-C2DH-HeLa/01/t029.tif' from '/kaggle/working/data/DIC-C2DH-HeLa.zip' to '/kaggle/working/data/DIC-C2DH-HeLa.zip.unzip'\n",
      "Extracting 'DIC-C2DH-HeLa/01/t030.tif' from '/kaggle/working/data/DIC-C2DH-HeLa.zip' to '/kaggle/working/data/DIC-C2DH-HeLa.zip.unzip'\n",
      "Extracting 'DIC-C2DH-HeLa/01/t031.tif' from '/kaggle/working/data/DIC-C2DH-HeLa.zip' to '/kaggle/working/data/DIC-C2DH-HeLa.zip.unzip'\n",
      "Extracting 'DIC-C2DH-HeLa/01/t032.tif' from '/kaggle/working/data/DIC-C2DH-HeLa.zip' to '/kaggle/working/data/DIC-C2DH-HeLa.zip.unzip'\n",
      "Extracting 'DIC-C2DH-HeLa/01/t033.tif' from '/kaggle/working/data/DIC-C2DH-HeLa.zip' to '/kaggle/working/data/DIC-C2DH-HeLa.zip.unzip'\n",
      "Extracting 'DIC-C2DH-HeLa/01/t034.tif' from '/kaggle/working/data/DIC-C2DH-HeLa.zip' to '/kaggle/working/data/DIC-C2DH-HeLa.zip.unzip'\n",
      "Extracting 'DIC-C2DH-HeLa/01/t035.tif' from '/kaggle/working/data/DIC-C2DH-HeLa.zip' to '/kaggle/working/data/DIC-C2DH-HeLa.zip.unzip'\n",
      "Extracting 'DIC-C2DH-HeLa/01/t036.tif' from '/kaggle/working/data/DIC-C2DH-HeLa.zip' to '/kaggle/working/data/DIC-C2DH-HeLa.zip.unzip'\n",
      "Extracting 'DIC-C2DH-HeLa/01/t037.tif' from '/kaggle/working/data/DIC-C2DH-HeLa.zip' to '/kaggle/working/data/DIC-C2DH-HeLa.zip.unzip'\n",
      "Extracting 'DIC-C2DH-HeLa/01/t038.tif' from '/kaggle/working/data/DIC-C2DH-HeLa.zip' to '/kaggle/working/data/DIC-C2DH-HeLa.zip.unzip'\n",
      "Extracting 'DIC-C2DH-HeLa/01/t039.tif' from '/kaggle/working/data/DIC-C2DH-HeLa.zip' to '/kaggle/working/data/DIC-C2DH-HeLa.zip.unzip'\n",
      "Extracting 'DIC-C2DH-HeLa/01/t040.tif' from '/kaggle/working/data/DIC-C2DH-HeLa.zip' to '/kaggle/working/data/DIC-C2DH-HeLa.zip.unzip'\n",
      "Extracting 'DIC-C2DH-HeLa/01/t041.tif' from '/kaggle/working/data/DIC-C2DH-HeLa.zip' to '/kaggle/working/data/DIC-C2DH-HeLa.zip.unzip'\n",
      "Extracting 'DIC-C2DH-HeLa/01/t042.tif' from '/kaggle/working/data/DIC-C2DH-HeLa.zip' to '/kaggle/working/data/DIC-C2DH-HeLa.zip.unzip'\n",
      "Extracting 'DIC-C2DH-HeLa/01/t043.tif' from '/kaggle/working/data/DIC-C2DH-HeLa.zip' to '/kaggle/working/data/DIC-C2DH-HeLa.zip.unzip'\n",
      "Extracting 'DIC-C2DH-HeLa/01/t044.tif' from '/kaggle/working/data/DIC-C2DH-HeLa.zip' to '/kaggle/working/data/DIC-C2DH-HeLa.zip.unzip'\n",
      "Extracting 'DIC-C2DH-HeLa/01/t045.tif' from '/kaggle/working/data/DIC-C2DH-HeLa.zip' to '/kaggle/working/data/DIC-C2DH-HeLa.zip.unzip'\n",
      "Extracting 'DIC-C2DH-HeLa/01/t046.tif' from '/kaggle/working/data/DIC-C2DH-HeLa.zip' to '/kaggle/working/data/DIC-C2DH-HeLa.zip.unzip'\n",
      "Extracting 'DIC-C2DH-HeLa/01/t047.tif' from '/kaggle/working/data/DIC-C2DH-HeLa.zip' to '/kaggle/working/data/DIC-C2DH-HeLa.zip.unzip'\n",
      "Extracting 'DIC-C2DH-HeLa/01/t048.tif' from '/kaggle/working/data/DIC-C2DH-HeLa.zip' to '/kaggle/working/data/DIC-C2DH-HeLa.zip.unzip'\n",
      "Extracting 'DIC-C2DH-HeLa/01/t049.tif' from '/kaggle/working/data/DIC-C2DH-HeLa.zip' to '/kaggle/working/data/DIC-C2DH-HeLa.zip.unzip'\n",
      "Extracting 'DIC-C2DH-HeLa/01/t050.tif' from '/kaggle/working/data/DIC-C2DH-HeLa.zip' to '/kaggle/working/data/DIC-C2DH-HeLa.zip.unzip'\n",
      "Extracting 'DIC-C2DH-HeLa/01/t051.tif' from '/kaggle/working/data/DIC-C2DH-HeLa.zip' to '/kaggle/working/data/DIC-C2DH-HeLa.zip.unzip'\n",
      "Extracting 'DIC-C2DH-HeLa/01/t052.tif' from '/kaggle/working/data/DIC-C2DH-HeLa.zip' to '/kaggle/working/data/DIC-C2DH-HeLa.zip.unzip'\n",
      "Extracting 'DIC-C2DH-HeLa/01/t053.tif' from '/kaggle/working/data/DIC-C2DH-HeLa.zip' to '/kaggle/working/data/DIC-C2DH-HeLa.zip.unzip'\n",
      "Extracting 'DIC-C2DH-HeLa/01/t054.tif' from '/kaggle/working/data/DIC-C2DH-HeLa.zip' to '/kaggle/working/data/DIC-C2DH-HeLa.zip.unzip'\n",
      "Extracting 'DIC-C2DH-HeLa/01/t055.tif' from '/kaggle/working/data/DIC-C2DH-HeLa.zip' to '/kaggle/working/data/DIC-C2DH-HeLa.zip.unzip'\n",
      "Extracting 'DIC-C2DH-HeLa/01/t056.tif' from '/kaggle/working/data/DIC-C2DH-HeLa.zip' to '/kaggle/working/data/DIC-C2DH-HeLa.zip.unzip'\n",
      "Extracting 'DIC-C2DH-HeLa/01/t057.tif' from '/kaggle/working/data/DIC-C2DH-HeLa.zip' to '/kaggle/working/data/DIC-C2DH-HeLa.zip.unzip'\n",
      "Extracting 'DIC-C2DH-HeLa/01/t058.tif' from '/kaggle/working/data/DIC-C2DH-HeLa.zip' to '/kaggle/working/data/DIC-C2DH-HeLa.zip.unzip'\n",
      "Extracting 'DIC-C2DH-HeLa/01/t059.tif' from '/kaggle/working/data/DIC-C2DH-HeLa.zip' to '/kaggle/working/data/DIC-C2DH-HeLa.zip.unzip'\n",
      "Extracting 'DIC-C2DH-HeLa/01/t060.tif' from '/kaggle/working/data/DIC-C2DH-HeLa.zip' to '/kaggle/working/data/DIC-C2DH-HeLa.zip.unzip'\n",
      "Extracting 'DIC-C2DH-HeLa/01/t061.tif' from '/kaggle/working/data/DIC-C2DH-HeLa.zip' to '/kaggle/working/data/DIC-C2DH-HeLa.zip.unzip'\n",
      "Extracting 'DIC-C2DH-HeLa/01/t062.tif' from '/kaggle/working/data/DIC-C2DH-HeLa.zip' to '/kaggle/working/data/DIC-C2DH-HeLa.zip.unzip'\n",
      "Extracting 'DIC-C2DH-HeLa/01/t063.tif' from '/kaggle/working/data/DIC-C2DH-HeLa.zip' to '/kaggle/working/data/DIC-C2DH-HeLa.zip.unzip'\n",
      "Extracting 'DIC-C2DH-HeLa/01/t064.tif' from '/kaggle/working/data/DIC-C2DH-HeLa.zip' to '/kaggle/working/data/DIC-C2DH-HeLa.zip.unzip'\n",
      "Extracting 'DIC-C2DH-HeLa/01/t065.tif' from '/kaggle/working/data/DIC-C2DH-HeLa.zip' to '/kaggle/working/data/DIC-C2DH-HeLa.zip.unzip'\n",
      "Extracting 'DIC-C2DH-HeLa/01/t066.tif' from '/kaggle/working/data/DIC-C2DH-HeLa.zip' to '/kaggle/working/data/DIC-C2DH-HeLa.zip.unzip'\n",
      "Extracting 'DIC-C2DH-HeLa/01/t067.tif' from '/kaggle/working/data/DIC-C2DH-HeLa.zip' to '/kaggle/working/data/DIC-C2DH-HeLa.zip.unzip'\n",
      "Extracting 'DIC-C2DH-HeLa/01/t068.tif' from '/kaggle/working/data/DIC-C2DH-HeLa.zip' to '/kaggle/working/data/DIC-C2DH-HeLa.zip.unzip'\n",
      "Extracting 'DIC-C2DH-HeLa/01/t069.tif' from '/kaggle/working/data/DIC-C2DH-HeLa.zip' to '/kaggle/working/data/DIC-C2DH-HeLa.zip.unzip'\n",
      "Extracting 'DIC-C2DH-HeLa/01/t070.tif' from '/kaggle/working/data/DIC-C2DH-HeLa.zip' to '/kaggle/working/data/DIC-C2DH-HeLa.zip.unzip'\n",
      "Extracting 'DIC-C2DH-HeLa/01/t071.tif' from '/kaggle/working/data/DIC-C2DH-HeLa.zip' to '/kaggle/working/data/DIC-C2DH-HeLa.zip.unzip'\n",
      "Extracting 'DIC-C2DH-HeLa/01/t072.tif' from '/kaggle/working/data/DIC-C2DH-HeLa.zip' to '/kaggle/working/data/DIC-C2DH-HeLa.zip.unzip'\n",
      "Extracting 'DIC-C2DH-HeLa/01/t073.tif' from '/kaggle/working/data/DIC-C2DH-HeLa.zip' to '/kaggle/working/data/DIC-C2DH-HeLa.zip.unzip'\n",
      "Extracting 'DIC-C2DH-HeLa/01/t074.tif' from '/kaggle/working/data/DIC-C2DH-HeLa.zip' to '/kaggle/working/data/DIC-C2DH-HeLa.zip.unzip'\n",
      "Extracting 'DIC-C2DH-HeLa/01/t075.tif' from '/kaggle/working/data/DIC-C2DH-HeLa.zip' to '/kaggle/working/data/DIC-C2DH-HeLa.zip.unzip'\n",
      "Extracting 'DIC-C2DH-HeLa/01/t076.tif' from '/kaggle/working/data/DIC-C2DH-HeLa.zip' to '/kaggle/working/data/DIC-C2DH-HeLa.zip.unzip'\n",
      "Extracting 'DIC-C2DH-HeLa/01/t077.tif' from '/kaggle/working/data/DIC-C2DH-HeLa.zip' to '/kaggle/working/data/DIC-C2DH-HeLa.zip.unzip'\n",
      "Extracting 'DIC-C2DH-HeLa/01/t078.tif' from '/kaggle/working/data/DIC-C2DH-HeLa.zip' to '/kaggle/working/data/DIC-C2DH-HeLa.zip.unzip'\n",
      "Extracting 'DIC-C2DH-HeLa/01/t079.tif' from '/kaggle/working/data/DIC-C2DH-HeLa.zip' to '/kaggle/working/data/DIC-C2DH-HeLa.zip.unzip'\n",
      "Extracting 'DIC-C2DH-HeLa/01/t080.tif' from '/kaggle/working/data/DIC-C2DH-HeLa.zip' to '/kaggle/working/data/DIC-C2DH-HeLa.zip.unzip'\n",
      "Extracting 'DIC-C2DH-HeLa/01/t081.tif' from '/kaggle/working/data/DIC-C2DH-HeLa.zip' to '/kaggle/working/data/DIC-C2DH-HeLa.zip.unzip'\n",
      "Extracting 'DIC-C2DH-HeLa/01/t082.tif' from '/kaggle/working/data/DIC-C2DH-HeLa.zip' to '/kaggle/working/data/DIC-C2DH-HeLa.zip.unzip'\n",
      "Extracting 'DIC-C2DH-HeLa/01/t083.tif' from '/kaggle/working/data/DIC-C2DH-HeLa.zip' to '/kaggle/working/data/DIC-C2DH-HeLa.zip.unzip'\n",
      "Downloading data from 'https://owncloud.gwdg.de/index.php/s/AWxQMblxwR99OjC/download' to file '/kaggle/working/data/hela-ctc-01-gt.zip'.\n"
     ]
    },
    {
     "name": "stdout",
     "output_type": "stream",
     "text": [
      "Example data directory is: /kaggle/working/data\n"
     ]
    },
    {
     "name": "stderr",
     "output_type": "stream",
     "text": [
      "100%|████████████████████████████████████████| 725k/725k [00:00<00:00, 962MB/s]\n",
      "Extracting 'masks/mask_0000.tif' from '/kaggle/working/data/hela-ctc-01-gt.zip' to '/kaggle/working/data/hela-ctc-01-gt.zip.unzip'\n",
      "Extracting 'masks/mask_0001.tif' from '/kaggle/working/data/hela-ctc-01-gt.zip' to '/kaggle/working/data/hela-ctc-01-gt.zip.unzip'\n",
      "Extracting 'masks/mask_0002.tif' from '/kaggle/working/data/hela-ctc-01-gt.zip' to '/kaggle/working/data/hela-ctc-01-gt.zip.unzip'\n",
      "Extracting 'masks/mask_0003.tif' from '/kaggle/working/data/hela-ctc-01-gt.zip' to '/kaggle/working/data/hela-ctc-01-gt.zip.unzip'\n",
      "Extracting 'masks/mask_0004.tif' from '/kaggle/working/data/hela-ctc-01-gt.zip' to '/kaggle/working/data/hela-ctc-01-gt.zip.unzip'\n",
      "Extracting 'masks/mask_0005.tif' from '/kaggle/working/data/hela-ctc-01-gt.zip' to '/kaggle/working/data/hela-ctc-01-gt.zip.unzip'\n",
      "Extracting 'masks/mask_0006.tif' from '/kaggle/working/data/hela-ctc-01-gt.zip' to '/kaggle/working/data/hela-ctc-01-gt.zip.unzip'\n",
      "Extracting 'masks/mask_0007.tif' from '/kaggle/working/data/hela-ctc-01-gt.zip' to '/kaggle/working/data/hela-ctc-01-gt.zip.unzip'\n",
      "Extracting 'masks/mask_0008.tif' from '/kaggle/working/data/hela-ctc-01-gt.zip' to '/kaggle/working/data/hela-ctc-01-gt.zip.unzip'\n",
      "Extracting 'masks/mask_0009.tif' from '/kaggle/working/data/hela-ctc-01-gt.zip' to '/kaggle/working/data/hela-ctc-01-gt.zip.unzip'\n",
      "Extracting 'masks/mask_0010.tif' from '/kaggle/working/data/hela-ctc-01-gt.zip' to '/kaggle/working/data/hela-ctc-01-gt.zip.unzip'\n",
      "Extracting 'masks/mask_0011.tif' from '/kaggle/working/data/hela-ctc-01-gt.zip' to '/kaggle/working/data/hela-ctc-01-gt.zip.unzip'\n",
      "Extracting 'masks/mask_0012.tif' from '/kaggle/working/data/hela-ctc-01-gt.zip' to '/kaggle/working/data/hela-ctc-01-gt.zip.unzip'\n",
      "Extracting 'masks/mask_0013.tif' from '/kaggle/working/data/hela-ctc-01-gt.zip' to '/kaggle/working/data/hela-ctc-01-gt.zip.unzip'\n",
      "Extracting 'masks/mask_0014.tif' from '/kaggle/working/data/hela-ctc-01-gt.zip' to '/kaggle/working/data/hela-ctc-01-gt.zip.unzip'\n",
      "Extracting 'masks/mask_0015.tif' from '/kaggle/working/data/hela-ctc-01-gt.zip' to '/kaggle/working/data/hela-ctc-01-gt.zip.unzip'\n",
      "Extracting 'masks/mask_0016.tif' from '/kaggle/working/data/hela-ctc-01-gt.zip' to '/kaggle/working/data/hela-ctc-01-gt.zip.unzip'\n",
      "Extracting 'masks/mask_0017.tif' from '/kaggle/working/data/hela-ctc-01-gt.zip' to '/kaggle/working/data/hela-ctc-01-gt.zip.unzip'\n",
      "Extracting 'masks/mask_0018.tif' from '/kaggle/working/data/hela-ctc-01-gt.zip' to '/kaggle/working/data/hela-ctc-01-gt.zip.unzip'\n",
      "Extracting 'masks/mask_0019.tif' from '/kaggle/working/data/hela-ctc-01-gt.zip' to '/kaggle/working/data/hela-ctc-01-gt.zip.unzip'\n",
      "Extracting 'masks/mask_0020.tif' from '/kaggle/working/data/hela-ctc-01-gt.zip' to '/kaggle/working/data/hela-ctc-01-gt.zip.unzip'\n",
      "Extracting 'masks/mask_0021.tif' from '/kaggle/working/data/hela-ctc-01-gt.zip' to '/kaggle/working/data/hela-ctc-01-gt.zip.unzip'\n",
      "Extracting 'masks/mask_0022.tif' from '/kaggle/working/data/hela-ctc-01-gt.zip' to '/kaggle/working/data/hela-ctc-01-gt.zip.unzip'\n",
      "Extracting 'masks/mask_0023.tif' from '/kaggle/working/data/hela-ctc-01-gt.zip' to '/kaggle/working/data/hela-ctc-01-gt.zip.unzip'\n",
      "Extracting 'masks/mask_0024.tif' from '/kaggle/working/data/hela-ctc-01-gt.zip' to '/kaggle/working/data/hela-ctc-01-gt.zip.unzip'\n",
      "Extracting 'masks/mask_0025.tif' from '/kaggle/working/data/hela-ctc-01-gt.zip' to '/kaggle/working/data/hela-ctc-01-gt.zip.unzip'\n",
      "Extracting 'masks/mask_0026.tif' from '/kaggle/working/data/hela-ctc-01-gt.zip' to '/kaggle/working/data/hela-ctc-01-gt.zip.unzip'\n",
      "Extracting 'masks/mask_0027.tif' from '/kaggle/working/data/hela-ctc-01-gt.zip' to '/kaggle/working/data/hela-ctc-01-gt.zip.unzip'\n",
      "Extracting 'masks/mask_0028.tif' from '/kaggle/working/data/hela-ctc-01-gt.zip' to '/kaggle/working/data/hela-ctc-01-gt.zip.unzip'\n",
      "Extracting 'masks/mask_0029.tif' from '/kaggle/working/data/hela-ctc-01-gt.zip' to '/kaggle/working/data/hela-ctc-01-gt.zip.unzip'\n",
      "Extracting 'masks/mask_0030.tif' from '/kaggle/working/data/hela-ctc-01-gt.zip' to '/kaggle/working/data/hela-ctc-01-gt.zip.unzip'\n",
      "Extracting 'masks/mask_0031.tif' from '/kaggle/working/data/hela-ctc-01-gt.zip' to '/kaggle/working/data/hela-ctc-01-gt.zip.unzip'\n",
      "Extracting 'masks/mask_0032.tif' from '/kaggle/working/data/hela-ctc-01-gt.zip' to '/kaggle/working/data/hela-ctc-01-gt.zip.unzip'\n",
      "Extracting 'masks/mask_0033.tif' from '/kaggle/working/data/hela-ctc-01-gt.zip' to '/kaggle/working/data/hela-ctc-01-gt.zip.unzip'\n",
      "Extracting 'masks/mask_0034.tif' from '/kaggle/working/data/hela-ctc-01-gt.zip' to '/kaggle/working/data/hela-ctc-01-gt.zip.unzip'\n",
      "Extracting 'masks/mask_0035.tif' from '/kaggle/working/data/hela-ctc-01-gt.zip' to '/kaggle/working/data/hela-ctc-01-gt.zip.unzip'\n",
      "Extracting 'masks/mask_0036.tif' from '/kaggle/working/data/hela-ctc-01-gt.zip' to '/kaggle/working/data/hela-ctc-01-gt.zip.unzip'\n",
      "Extracting 'masks/mask_0037.tif' from '/kaggle/working/data/hela-ctc-01-gt.zip' to '/kaggle/working/data/hela-ctc-01-gt.zip.unzip'\n",
      "Extracting 'masks/mask_0038.tif' from '/kaggle/working/data/hela-ctc-01-gt.zip' to '/kaggle/working/data/hela-ctc-01-gt.zip.unzip'\n",
      "Extracting 'masks/mask_0039.tif' from '/kaggle/working/data/hela-ctc-01-gt.zip' to '/kaggle/working/data/hela-ctc-01-gt.zip.unzip'\n",
      "Extracting 'masks/mask_0040.tif' from '/kaggle/working/data/hela-ctc-01-gt.zip' to '/kaggle/working/data/hela-ctc-01-gt.zip.unzip'\n",
      "Extracting 'masks/mask_0041.tif' from '/kaggle/working/data/hela-ctc-01-gt.zip' to '/kaggle/working/data/hela-ctc-01-gt.zip.unzip'\n",
      "Extracting 'masks/mask_0042.tif' from '/kaggle/working/data/hela-ctc-01-gt.zip' to '/kaggle/working/data/hela-ctc-01-gt.zip.unzip'\n",
      "Extracting 'masks/mask_0043.tif' from '/kaggle/working/data/hela-ctc-01-gt.zip' to '/kaggle/working/data/hela-ctc-01-gt.zip.unzip'\n",
      "Extracting 'masks/mask_0044.tif' from '/kaggle/working/data/hela-ctc-01-gt.zip' to '/kaggle/working/data/hela-ctc-01-gt.zip.unzip'\n",
      "Extracting 'masks/mask_0045.tif' from '/kaggle/working/data/hela-ctc-01-gt.zip' to '/kaggle/working/data/hela-ctc-01-gt.zip.unzip'\n",
      "Extracting 'masks/mask_0046.tif' from '/kaggle/working/data/hela-ctc-01-gt.zip' to '/kaggle/working/data/hela-ctc-01-gt.zip.unzip'\n",
      "Extracting 'masks/mask_0047.tif' from '/kaggle/working/data/hela-ctc-01-gt.zip' to '/kaggle/working/data/hela-ctc-01-gt.zip.unzip'\n",
      "Extracting 'masks/mask_0048.tif' from '/kaggle/working/data/hela-ctc-01-gt.zip' to '/kaggle/working/data/hela-ctc-01-gt.zip.unzip'\n",
      "Extracting 'masks/mask_0049.tif' from '/kaggle/working/data/hela-ctc-01-gt.zip' to '/kaggle/working/data/hela-ctc-01-gt.zip.unzip'\n",
      "Extracting 'masks/mask_0050.tif' from '/kaggle/working/data/hela-ctc-01-gt.zip' to '/kaggle/working/data/hela-ctc-01-gt.zip.unzip'\n",
      "Extracting 'masks/mask_0051.tif' from '/kaggle/working/data/hela-ctc-01-gt.zip' to '/kaggle/working/data/hela-ctc-01-gt.zip.unzip'\n",
      "Extracting 'masks/mask_0052.tif' from '/kaggle/working/data/hela-ctc-01-gt.zip' to '/kaggle/working/data/hela-ctc-01-gt.zip.unzip'\n",
      "Extracting 'masks/mask_0053.tif' from '/kaggle/working/data/hela-ctc-01-gt.zip' to '/kaggle/working/data/hela-ctc-01-gt.zip.unzip'\n",
      "Extracting 'masks/mask_0054.tif' from '/kaggle/working/data/hela-ctc-01-gt.zip' to '/kaggle/working/data/hela-ctc-01-gt.zip.unzip'\n",
      "Extracting 'masks/mask_0055.tif' from '/kaggle/working/data/hela-ctc-01-gt.zip' to '/kaggle/working/data/hela-ctc-01-gt.zip.unzip'\n",
      "Extracting 'masks/mask_0056.tif' from '/kaggle/working/data/hela-ctc-01-gt.zip' to '/kaggle/working/data/hela-ctc-01-gt.zip.unzip'\n",
      "Extracting 'masks/mask_0057.tif' from '/kaggle/working/data/hela-ctc-01-gt.zip' to '/kaggle/working/data/hela-ctc-01-gt.zip.unzip'\n",
      "Extracting 'masks/mask_0058.tif' from '/kaggle/working/data/hela-ctc-01-gt.zip' to '/kaggle/working/data/hela-ctc-01-gt.zip.unzip'\n",
      "Extracting 'masks/mask_0059.tif' from '/kaggle/working/data/hela-ctc-01-gt.zip' to '/kaggle/working/data/hela-ctc-01-gt.zip.unzip'\n",
      "Extracting 'masks/mask_0060.tif' from '/kaggle/working/data/hela-ctc-01-gt.zip' to '/kaggle/working/data/hela-ctc-01-gt.zip.unzip'\n",
      "Extracting 'masks/mask_0061.tif' from '/kaggle/working/data/hela-ctc-01-gt.zip' to '/kaggle/working/data/hela-ctc-01-gt.zip.unzip'\n",
      "Extracting 'masks/mask_0062.tif' from '/kaggle/working/data/hela-ctc-01-gt.zip' to '/kaggle/working/data/hela-ctc-01-gt.zip.unzip'\n",
      "Extracting 'masks/mask_0063.tif' from '/kaggle/working/data/hela-ctc-01-gt.zip' to '/kaggle/working/data/hela-ctc-01-gt.zip.unzip'\n",
      "Extracting 'masks/mask_0064.tif' from '/kaggle/working/data/hela-ctc-01-gt.zip' to '/kaggle/working/data/hela-ctc-01-gt.zip.unzip'\n",
      "Extracting 'masks/mask_0065.tif' from '/kaggle/working/data/hela-ctc-01-gt.zip' to '/kaggle/working/data/hela-ctc-01-gt.zip.unzip'\n",
      "Extracting 'masks/mask_0066.tif' from '/kaggle/working/data/hela-ctc-01-gt.zip' to '/kaggle/working/data/hela-ctc-01-gt.zip.unzip'\n",
      "Extracting 'masks/mask_0067.tif' from '/kaggle/working/data/hela-ctc-01-gt.zip' to '/kaggle/working/data/hela-ctc-01-gt.zip.unzip'\n",
      "Extracting 'masks/mask_0068.tif' from '/kaggle/working/data/hela-ctc-01-gt.zip' to '/kaggle/working/data/hela-ctc-01-gt.zip.unzip'\n",
      "Extracting 'masks/mask_0069.tif' from '/kaggle/working/data/hela-ctc-01-gt.zip' to '/kaggle/working/data/hela-ctc-01-gt.zip.unzip'\n",
      "Extracting 'masks/mask_0070.tif' from '/kaggle/working/data/hela-ctc-01-gt.zip' to '/kaggle/working/data/hela-ctc-01-gt.zip.unzip'\n",
      "Extracting 'masks/mask_0071.tif' from '/kaggle/working/data/hela-ctc-01-gt.zip' to '/kaggle/working/data/hela-ctc-01-gt.zip.unzip'\n",
      "Extracting 'masks/mask_0072.tif' from '/kaggle/working/data/hela-ctc-01-gt.zip' to '/kaggle/working/data/hela-ctc-01-gt.zip.unzip'\n",
      "Extracting 'masks/mask_0073.tif' from '/kaggle/working/data/hela-ctc-01-gt.zip' to '/kaggle/working/data/hela-ctc-01-gt.zip.unzip'\n",
      "Extracting 'masks/mask_0074.tif' from '/kaggle/working/data/hela-ctc-01-gt.zip' to '/kaggle/working/data/hela-ctc-01-gt.zip.unzip'\n",
      "Extracting 'masks/mask_0075.tif' from '/kaggle/working/data/hela-ctc-01-gt.zip' to '/kaggle/working/data/hela-ctc-01-gt.zip.unzip'\n",
      "Extracting 'masks/mask_0076.tif' from '/kaggle/working/data/hela-ctc-01-gt.zip' to '/kaggle/working/data/hela-ctc-01-gt.zip.unzip'\n",
      "Extracting 'masks/mask_0077.tif' from '/kaggle/working/data/hela-ctc-01-gt.zip' to '/kaggle/working/data/hela-ctc-01-gt.zip.unzip'\n",
      "Extracting 'masks/mask_0078.tif' from '/kaggle/working/data/hela-ctc-01-gt.zip' to '/kaggle/working/data/hela-ctc-01-gt.zip.unzip'\n",
      "Extracting 'masks/mask_0079.tif' from '/kaggle/working/data/hela-ctc-01-gt.zip' to '/kaggle/working/data/hela-ctc-01-gt.zip.unzip'\n",
      "Extracting 'masks/mask_0080.tif' from '/kaggle/working/data/hela-ctc-01-gt.zip' to '/kaggle/working/data/hela-ctc-01-gt.zip.unzip'\n",
      "Extracting 'masks/mask_0081.tif' from '/kaggle/working/data/hela-ctc-01-gt.zip' to '/kaggle/working/data/hela-ctc-01-gt.zip.unzip'\n",
      "Extracting 'masks/mask_0082.tif' from '/kaggle/working/data/hela-ctc-01-gt.zip' to '/kaggle/working/data/hela-ctc-01-gt.zip.unzip'\n",
      "Extracting 'masks/mask_0083.tif' from '/kaggle/working/data/hela-ctc-01-gt.zip' to '/kaggle/working/data/hela-ctc-01-gt.zip.unzip'\n"
     ]
    }
   ],
   "source": [
    "DATA_FOLDER = os.path.join(root_dir, \"data\")\n",
    "os.makedirs(DATA_FOLDER, exist_ok=True)\n",
    "\n",
    "# This will download the image and segmentation data for training.\n",
    "image_dir = fetch_tracking_example_data(DATA_FOLDER)\n",
    "segmentation_dir = fetch_tracking_segmentation_data(DATA_FOLDER)"
   ]
  },
  {
   "cell_type": "markdown",
   "metadata": {},
   "source": [
    "## Let's create our necessary functionality\n",
    "\n",
    "With reference to our suggestion for batched evaluation of the Segment Anything models (see our [documentation](https://github.com/computational-cell-analytics/micro-sam/tree/master/finetuning/evaluation#how-to-run-the-evaluation-scripts-on-your-own-data) for details) on our own data, the first step is to create a convenience function to wrap the input images and respective instance labels around a function."
   ]
  },
  {
   "cell_type": "code",
   "execution_count": 9,
   "metadata": {
    "execution": {
     "iopub.execute_input": "2024-05-04T21:47:10.803785Z",
     "iopub.status.busy": "2024-05-04T21:47:10.803396Z",
     "iopub.status.idle": "2024-05-04T21:47:10.810494Z",
     "shell.execute_reply": "2024-05-04T21:47:10.809484Z",
     "shell.execute_reply.started": "2024-05-04T21:47:10.803752Z"
    }
   },
   "outputs": [],
   "source": [
    "def get_paths(split=None):\n",
    "    \"\"\"For this dataset, we have a total of 84 images.\n",
    "    \n",
    "    We choose:\n",
    "        - The first 5 images as the validation images, for grid search (relevant for AMG ans AIS)\n",
    "        - The next 79 images as the test images, for running the inference(s).\n",
    "    \"\"\"\n",
    "    image_paths = sorted(glob(os.path.join(image_dir, \"*\")))\n",
    "    gt_paths = sorted(glob(os.path.join(segmentation_dir, \"*\")))\n",
    "    \n",
    "    if split is None:\n",
    "        return image_paths, gt_paths\n",
    "\n",
    "    else:\n",
    "        if split == \"val\":\n",
    "            return image_paths[:1], gt_paths[:1]\n",
    "        elif split == \"test\":\n",
    "            return image_paths[5:], gt_paths[5:]\n",
    "        else:\n",
    "            raise ValueError(f\"'{split}' is not a valid split name.\")"
   ]
  },
  {
   "cell_type": "markdown",
   "metadata": {},
   "source": [
    "## Let's visualize how our samples look"
   ]
  },
  {
   "cell_type": "code",
   "execution_count": 10,
   "metadata": {
    "execution": {
     "iopub.execute_input": "2024-05-04T21:47:10.812065Z",
     "iopub.status.busy": "2024-05-04T21:47:10.811805Z",
     "iopub.status.idle": "2024-05-04T21:47:10.852193Z",
     "shell.execute_reply": "2024-05-04T21:47:10.851429Z",
     "shell.execute_reply.started": "2024-05-04T21:47:10.812043Z"
    }
   },
   "outputs": [],
   "source": [
    "# Convenience function to plot images side-by-side\n",
    "def plot_samples(image, gt, segmentation=None):\n",
    "    n_images = 2 if segmentation is None else 3\n",
    "    fig, ax = plt.subplots(1, n_images, figsize=(10, 10))\n",
    "    \n",
    "    ax[0].imshow(_enhance_image(image, do_norm=False), cmap=\"gray\")\n",
    "    ax[0].axis(\"off\")\n",
    "    ax[0].set_title(\"Image\")\n",
    "    \n",
    "    ax[1].imshow(gt, cmap=get_random_colors(gt), interpolation=\"nearest\")\n",
    "    ax[1].axis(\"off\")\n",
    "    ax[1].set_title(\"Ground Truth\")\n",
    "    \n",
    "    if n_images == 3:\n",
    "        ax[2].imshow(segmentation, cmap=get_random_colors(segmentation), interpolation=\"nearest\")\n",
    "        ax[2].axis(\"off\")\n",
    "        ax[2].set_title(\"Prediction\")"
   ]
  },
  {
   "cell_type": "code",
   "execution_count": null,
   "metadata": {
    "execution": {
     "iopub.execute_input": "2024-05-04T21:47:10.853667Z",
     "iopub.status.busy": "2024-05-04T21:47:10.853352Z"
    }
   },
   "outputs": [],
   "source": [
    "image_paths, segmentation_paths = get_paths(split=\"test\")\n",
    "\n",
    "for image_path, segmentation_path in zip(image_paths, segmentation_paths):\n",
    "    image = imageio.imread(image_path)\n",
    "    segmentation = imageio.imread(segmentation_path)\n",
    "\n",
    "    plot_samples(image=image, gt=segmentation)\n",
    "    \n",
    "    break  # comment this out in case you want to visualize all the images"
   ]
  },
  {
   "cell_type": "markdown",
   "metadata": {},
   "source": [
    "AMG"
   ]
  },
  {
   "cell_type": "code",
   "execution_count": 12,
   "metadata": {
    "execution": {
     "iopub.execute_input": "2024-05-04T21:47:11.299652Z",
     "iopub.status.busy": "2024-05-04T21:47:11.296914Z",
     "iopub.status.idle": "2024-05-04T21:47:11.306466Z",
     "shell.execute_reply": "2024-05-04T21:47:11.305694Z",
     "shell.execute_reply.started": "2024-05-04T21:47:11.299603Z"
    }
   },
   "outputs": [],
   "source": [
    "val_image_paths, val_gt_paths = get_paths(split=\"val\")\n",
    "test_image_paths, test_gt_paths = get_paths(split=\"test\")"
   ]
  },
  {
   "cell_type": "code",
   "execution_count": 13,
   "metadata": {
    "execution": {
     "iopub.execute_input": "2024-05-04T21:47:11.308412Z",
     "iopub.status.busy": "2024-05-04T21:47:11.307803Z",
     "iopub.status.idle": "2024-05-04T21:47:11.315306Z",
     "shell.execute_reply": "2024-05-04T21:47:11.314470Z",
     "shell.execute_reply.started": "2024-05-04T21:47:11.308387Z"
    }
   },
   "outputs": [],
   "source": [
    "checkpoint=None  # overwrite in case you have custom checkpoints to load models from\n",
    "model_type = \"vit_b\"  # overwrite with your desired choice of model\n",
    "experiment_folder = os.path.join(root_dir, \"experiment_dir\", \"DIC-C2DH-HeLa\", model_type)"
   ]
  },
  {
   "cell_type": "code",
   "execution_count": 14,
   "metadata": {
    "execution": {
     "iopub.execute_input": "2024-05-04T21:47:11.316801Z",
     "iopub.status.busy": "2024-05-04T21:47:11.316425Z",
     "iopub.status.idle": "2024-05-04T22:07:37.501411Z",
     "shell.execute_reply": "2024-05-04T22:07:37.500479Z",
     "shell.execute_reply.started": "2024-05-04T21:47:11.316772Z"
    }
   },
   "outputs": [
    {
     "name": "stderr",
     "output_type": "stream",
     "text": [
      "Downloading file 'vit_b' from 'https://dl.fbaipublicfiles.com/segment_anything/sam_vit_b_01ec64.pth' to '/root/.cache/micro_sam/models'.\n",
      "Run instance segmentation grid-search:   0%|          | 0/1 [00:00<?, ?it/s]\n",
      "  0%|          | 0/1 [00:00<?, ?it/s]\u001b[A\n",
      "100%|██████████| 1/1 [00:06<00:00,  6.15s/it]\u001b[A\n",
      "Run instance segmentation grid-search: 100%|██████████| 1/1 [00:18<00:00, 18.69s/it]\n"
     ]
    },
    {
     "name": "stdout",
     "output_type": "stream",
     "text": [
      "Best grid-search result: 0.0359734619541288 with parmeters:\n",
      " pred_iou_thresh = 0.5, stability_score_thresh = 0.5\n",
      "\n"
     ]
    },
    {
     "name": "stderr",
     "output_type": "stream",
     "text": [
      "Run inference for automatic mask generation: 100%|██████████| 79/79 [19:57<00:00, 15.16s/it]\n"
     ]
    }
   ],
   "source": [
    "prediction_folder = inference.run_amg(\n",
    "    checkpoint=checkpoint,\n",
    "    model_type=model_type,\n",
    "    experiment_folder=experiment_folder,\n",
    "    val_image_paths=val_image_paths,\n",
    "    val_gt_paths=val_gt_paths,\n",
    "    test_image_paths=test_image_paths,\n",
    "    iou_thresh_values=[0.5],\n",
    "    stability_score_values=[0.5],\n",
    ")"
   ]
  },
  {
   "cell_type": "markdown",
   "metadata": {},
   "source": [
    "Now, let's evaluate our AMG predictions from the default Segment Anything model."
   ]
  },
  {
   "cell_type": "code",
   "execution_count": 15,
   "metadata": {
    "execution": {
     "iopub.execute_input": "2024-05-04T22:07:37.503205Z",
     "iopub.status.busy": "2024-05-04T22:07:37.502901Z",
     "iopub.status.idle": "2024-05-04T22:07:39.894840Z",
     "shell.execute_reply": "2024-05-04T22:07:39.893851Z",
     "shell.execute_reply.started": "2024-05-04T22:07:37.503178Z"
    }
   },
   "outputs": [
    {
     "name": "stdout",
     "output_type": "stream",
     "text": [
      "Evaluating /kaggle/working/experiment_dir/DIC-C2DH-HeLa/vit_b/amg/inference\n"
     ]
    },
    {
     "name": "stderr",
     "output_type": "stream",
     "text": [
      "Evaluate predictions: 100%|██████████| 79/79 [00:02<00:00, 33.25it/s]"
     ]
    },
    {
     "name": "stdout",
     "output_type": "stream",
     "text": [
      "        msa      sa50      sa75\n",
      "0  0.059087  0.096867  0.061251\n"
     ]
    },
    {
     "name": "stderr",
     "output_type": "stream",
     "text": [
      "\n"
     ]
    }
   ],
   "source": [
    "print(\"Evaluating\", prediction_folder)\n",
    "prediction_paths = sorted(glob(os.path.join(prediction_folder, \"*\")))\n",
    "save_path = os.path.join(experiment_folder, \"results\", \"amg.csv\")\n",
    "res = run_evaluation(\n",
    "    gt_paths=test_gt_paths,\n",
    "    prediction_paths=prediction_paths,\n",
    "    save_path=save_path,\n",
    ")\n",
    "print(res)"
   ]
  },
  {
   "cell_type": "markdown",
   "metadata": {},
   "source": [
    "Visualize the AMG results"
   ]
  },
  {
   "cell_type": "code",
   "execution_count": 16,
   "metadata": {
    "execution": {
     "iopub.execute_input": "2024-05-04T22:07:39.896409Z",
     "iopub.status.busy": "2024-05-04T22:07:39.896103Z",
     "iopub.status.idle": "2024-05-04T22:07:39.900509Z",
     "shell.execute_reply": "2024-05-04T22:07:39.899623Z",
     "shell.execute_reply.started": "2024-05-04T22:07:39.896383Z"
    }
   },
   "outputs": [],
   "source": [
    "# TODO: visualize the AMG predictions from default SAM models."
   ]
  },
  {
   "cell_type": "markdown",
   "metadata": {},
   "source": [
    "Next, AMG from finetuned models"
   ]
  },
  {
   "cell_type": "code",
   "execution_count": 17,
   "metadata": {
    "execution": {
     "iopub.execute_input": "2024-05-04T22:07:39.902009Z",
     "iopub.status.busy": "2024-05-04T22:07:39.901685Z",
     "iopub.status.idle": "2024-05-04T22:07:39.912350Z",
     "shell.execute_reply": "2024-05-04T22:07:39.911547Z",
     "shell.execute_reply.started": "2024-05-04T22:07:39.901978Z"
    }
   },
   "outputs": [],
   "source": [
    "checkpoint=None  # overwrite in case you have custom checkpoints to load models from\n",
    "model_type = \"vit_b_lm\"  # overwrite with your desired choice of model\n",
    "experiment_folder = os.path.join(root_dir, \"experiment_dir\", \"DIC-C2DH-HeLa\", model_type)"
   ]
  },
  {
   "cell_type": "code",
   "execution_count": 18,
   "metadata": {
    "execution": {
     "iopub.execute_input": "2024-05-04T22:07:39.913644Z",
     "iopub.status.busy": "2024-05-04T22:07:39.913362Z",
     "iopub.status.idle": "2024-05-04T22:15:47.204460Z",
     "shell.execute_reply": "2024-05-04T22:15:47.203505Z",
     "shell.execute_reply.started": "2024-05-04T22:07:39.913623Z"
    }
   },
   "outputs": [
    {
     "name": "stderr",
     "output_type": "stream",
     "text": [
      "Downloading file 'vit_b_lm' from 'https://uk1s3.embassy.ebi.ac.uk/public-datasets/bioimage.io/diplomatic-bug/staged/1/files/vit_b.pt' to '/root/.cache/micro_sam/models'.\n",
      "Downloading file 'vit_b_lm_decoder' from 'https://uk1s3.embassy.ebi.ac.uk/public-datasets/bioimage.io/diplomatic-bug/staged/1/files/vit_b_decoder.pt' to '/root/.cache/micro_sam/models'.\n",
      "Run instance segmentation grid-search:   0%|          | 0/1 [00:00<?, ?it/s]\n",
      "  0%|          | 0/1 [00:00<?, ?it/s]\u001b[A\n",
      "100%|██████████| 1/1 [00:01<00:00,  1.00s/it]\u001b[A\n",
      "Run instance segmentation grid-search: 100%|██████████| 1/1 [00:05<00:00,  5.90s/it]\n"
     ]
    },
    {
     "name": "stdout",
     "output_type": "stream",
     "text": [
      "Best grid-search result: 0.1927906946144028 with parmeters:\n",
      " pred_iou_thresh = 0.5, stability_score_thresh = 0.5\n",
      "\n"
     ]
    },
    {
     "name": "stderr",
     "output_type": "stream",
     "text": [
      "Run inference for automatic mask generation: 100%|██████████| 79/79 [07:50<00:00,  5.95s/it]\n"
     ]
    }
   ],
   "source": [
    "prediction_folder = inference.run_amg(\n",
    "    checkpoint=checkpoint,\n",
    "    model_type=model_type,\n",
    "    experiment_folder=experiment_folder,\n",
    "    val_image_paths=val_image_paths,\n",
    "    val_gt_paths=val_gt_paths,\n",
    "    test_image_paths=test_image_paths,\n",
    "    iou_thresh_values=[0.5],\n",
    "    stability_score_values=[0.5],\n",
    ")"
   ]
  },
  {
   "cell_type": "markdown",
   "metadata": {},
   "source": [
    "Quantitative for AMG micro-sam models"
   ]
  },
  {
   "cell_type": "code",
   "execution_count": 19,
   "metadata": {
    "execution": {
     "iopub.execute_input": "2024-05-04T22:15:47.206141Z",
     "iopub.status.busy": "2024-05-04T22:15:47.205842Z",
     "iopub.status.idle": "2024-05-04T22:15:49.699813Z",
     "shell.execute_reply": "2024-05-04T22:15:49.698867Z",
     "shell.execute_reply.started": "2024-05-04T22:15:47.206108Z"
    }
   },
   "outputs": [
    {
     "name": "stdout",
     "output_type": "stream",
     "text": [
      "Evaluating /kaggle/working/experiment_dir/DIC-C2DH-HeLa/vit_b_lm/amg/inference\n"
     ]
    },
    {
     "name": "stderr",
     "output_type": "stream",
     "text": [
      "Evaluate predictions: 100%|██████████| 79/79 [00:02<00:00, 31.87it/s]"
     ]
    },
    {
     "name": "stdout",
     "output_type": "stream",
     "text": [
      "        msa      sa50      sa75\n",
      "0  0.195947  0.270297  0.217326\n"
     ]
    },
    {
     "name": "stderr",
     "output_type": "stream",
     "text": [
      "\n"
     ]
    }
   ],
   "source": [
    "print(\"Evaluating\", prediction_folder)\n",
    "prediction_paths = sorted(glob(os.path.join(prediction_folder, \"*\")))\n",
    "save_path = os.path.join(experiment_folder, \"results\", \"amg.csv\")\n",
    "res = run_evaluation(\n",
    "    gt_paths=test_gt_paths,\n",
    "    prediction_paths=prediction_paths,\n",
    "    save_path=save_path,\n",
    "    verbose=True,\n",
    ")\n",
    "print(res)"
   ]
  },
  {
   "cell_type": "markdown",
   "metadata": {},
   "source": [
    "Qualitative for AMG micro-sam models"
   ]
  },
  {
   "cell_type": "code",
   "execution_count": 20,
   "metadata": {
    "execution": {
     "iopub.execute_input": "2024-05-04T22:15:49.701919Z",
     "iopub.status.busy": "2024-05-04T22:15:49.701275Z",
     "iopub.status.idle": "2024-05-04T22:15:49.706164Z",
     "shell.execute_reply": "2024-05-04T22:15:49.705253Z",
     "shell.execute_reply.started": "2024-05-04T22:15:49.701885Z"
    }
   },
   "outputs": [],
   "source": [
    "# TODO"
   ]
  },
  {
   "cell_type": "markdown",
   "metadata": {},
   "source": [
    "AIS for finetuned models"
   ]
  },
  {
   "cell_type": "code",
   "execution_count": 21,
   "metadata": {
    "execution": {
     "iopub.execute_input": "2024-05-04T22:15:49.708119Z",
     "iopub.status.busy": "2024-05-04T22:15:49.707596Z",
     "iopub.status.idle": "2024-05-04T22:17:10.604978Z",
     "shell.execute_reply": "2024-05-04T22:17:10.604003Z",
     "shell.execute_reply.started": "2024-05-04T22:15:49.708094Z"
    }
   },
   "outputs": [
    {
     "name": "stderr",
     "output_type": "stream",
     "text": [
      "Run instance segmentation grid-search:   0%|          | 0/1 [00:00<?, ?it/s]\n",
      "  0%|          | 0/525 [00:00<?, ?it/s]\u001b[A\n",
      "  0%|          | 1/525 [00:00<00:59,  8.82it/s]\u001b[A\n",
      "  0%|          | 2/525 [00:00<00:59,  8.84it/s]\u001b[A\n",
      "  1%|          | 3/525 [00:00<00:58,  8.98it/s]\u001b[A\n",
      "  1%|          | 4/525 [00:00<00:57,  8.99it/s]\u001b[A\n",
      "  1%|          | 5/525 [00:00<00:57,  9.01it/s]\u001b[A\n",
      "  1%|          | 6/525 [00:00<00:57,  9.09it/s]\u001b[A\n",
      "  1%|▏         | 7/525 [00:00<00:56,  9.09it/s]\u001b[A\n",
      "  2%|▏         | 8/525 [00:00<00:57,  8.95it/s]\u001b[A\n",
      "  2%|▏         | 9/525 [00:01<00:57,  8.96it/s]\u001b[A\n",
      "  2%|▏         | 10/525 [00:01<00:57,  8.90it/s]\u001b[A\n",
      "  2%|▏         | 11/525 [00:01<00:57,  8.89it/s]\u001b[A\n",
      "  2%|▏         | 12/525 [00:01<00:57,  8.92it/s]\u001b[A\n",
      "  2%|▏         | 13/525 [00:01<00:57,  8.97it/s]\u001b[A\n",
      "  3%|▎         | 14/525 [00:01<00:57,  8.96it/s]\u001b[A\n",
      "  3%|▎         | 15/525 [00:01<00:56,  8.96it/s]\u001b[A\n",
      "  3%|▎         | 16/525 [00:01<00:56,  8.94it/s]\u001b[A\n",
      "  3%|▎         | 17/525 [00:01<00:57,  8.87it/s]\u001b[A\n",
      "  3%|▎         | 18/525 [00:02<00:57,  8.74it/s]\u001b[A\n",
      "  4%|▎         | 19/525 [00:02<01:01,  8.28it/s]\u001b[A\n",
      "  4%|▍         | 20/525 [00:02<01:01,  8.26it/s]\u001b[A\n",
      "  4%|▍         | 21/525 [00:02<01:01,  8.13it/s]\u001b[A\n",
      "  4%|▍         | 22/525 [00:02<01:01,  8.20it/s]\u001b[A\n",
      "  4%|▍         | 23/525 [00:02<00:59,  8.39it/s]\u001b[A\n",
      "  5%|▍         | 24/525 [00:02<00:58,  8.50it/s]\u001b[A\n",
      "  5%|▍         | 25/525 [00:02<00:58,  8.55it/s]\u001b[A\n",
      "  5%|▍         | 26/525 [00:02<00:57,  8.61it/s]\u001b[A\n",
      "  5%|▌         | 27/525 [00:03<00:57,  8.63it/s]\u001b[A\n",
      "  5%|▌         | 28/525 [00:03<00:57,  8.71it/s]\u001b[A\n",
      "  6%|▌         | 29/525 [00:03<00:56,  8.81it/s]\u001b[A\n",
      "  6%|▌         | 30/525 [00:03<00:55,  8.89it/s]\u001b[A\n",
      "  6%|▌         | 31/525 [00:03<00:55,  8.92it/s]\u001b[A\n",
      "  6%|▌         | 32/525 [00:03<00:55,  8.93it/s]\u001b[A\n",
      "  6%|▋         | 33/525 [00:03<00:55,  8.94it/s]\u001b[A\n",
      "  6%|▋         | 34/525 [00:03<00:54,  8.93it/s]\u001b[A\n",
      "  7%|▋         | 35/525 [00:03<00:54,  8.97it/s]\u001b[A\n",
      "  7%|▋         | 36/525 [00:04<00:54,  8.96it/s]\u001b[A\n",
      "  7%|▋         | 37/525 [00:04<00:55,  8.76it/s]\u001b[A\n",
      "  7%|▋         | 38/525 [00:04<00:56,  8.64it/s]\u001b[A\n",
      "  7%|▋         | 39/525 [00:04<00:56,  8.57it/s]\u001b[A\n",
      "  8%|▊         | 40/525 [00:04<00:56,  8.61it/s]\u001b[A\n",
      "  8%|▊         | 41/525 [00:04<00:55,  8.66it/s]\u001b[A\n",
      "  8%|▊         | 42/525 [00:04<00:55,  8.72it/s]\u001b[A\n",
      "  8%|▊         | 43/525 [00:04<00:54,  8.86it/s]\u001b[A\n",
      "  8%|▊         | 44/525 [00:05<00:53,  8.93it/s]\u001b[A\n",
      "  9%|▊         | 45/525 [00:05<00:53,  8.99it/s]\u001b[A\n",
      "  9%|▉         | 46/525 [00:05<00:53,  8.92it/s]\u001b[A\n",
      "  9%|▉         | 47/525 [00:05<00:55,  8.56it/s]\u001b[A\n",
      "  9%|▉         | 48/525 [00:05<00:55,  8.66it/s]\u001b[A\n",
      "  9%|▉         | 49/525 [00:05<00:54,  8.74it/s]\u001b[A\n",
      " 10%|▉         | 50/525 [00:05<00:53,  8.81it/s]\u001b[A\n",
      " 10%|▉         | 51/525 [00:05<00:53,  8.79it/s]\u001b[A\n",
      " 10%|▉         | 52/525 [00:05<00:54,  8.73it/s]\u001b[A\n",
      " 10%|█         | 53/525 [00:06<00:53,  8.80it/s]\u001b[A\n",
      " 10%|█         | 54/525 [00:06<00:53,  8.73it/s]\u001b[A\n",
      " 10%|█         | 55/525 [00:06<00:54,  8.68it/s]\u001b[A\n",
      " 11%|█         | 56/525 [00:06<00:54,  8.62it/s]\u001b[A\n",
      " 11%|█         | 57/525 [00:06<00:54,  8.65it/s]\u001b[A\n",
      " 11%|█         | 58/525 [00:06<00:53,  8.67it/s]\u001b[A\n",
      " 11%|█         | 59/525 [00:06<00:53,  8.72it/s]\u001b[A\n",
      " 11%|█▏        | 60/525 [00:06<00:53,  8.67it/s]\u001b[A\n",
      " 12%|█▏        | 61/525 [00:06<00:53,  8.67it/s]\u001b[A\n",
      " 12%|█▏        | 62/525 [00:07<00:53,  8.66it/s]\u001b[A\n",
      " 12%|█▏        | 63/525 [00:07<00:53,  8.66it/s]\u001b[A\n",
      " 12%|█▏        | 64/525 [00:07<00:52,  8.75it/s]\u001b[A\n",
      " 12%|█▏        | 65/525 [00:07<00:52,  8.81it/s]\u001b[A\n",
      " 13%|█▎        | 66/525 [00:07<00:51,  8.83it/s]\u001b[A\n",
      " 13%|█▎        | 67/525 [00:07<00:52,  8.80it/s]\u001b[A\n",
      " 13%|█▎        | 68/525 [00:07<00:51,  8.80it/s]\u001b[A\n",
      " 13%|█▎        | 69/525 [00:07<00:52,  8.77it/s]\u001b[A\n",
      " 13%|█▎        | 70/525 [00:07<00:51,  8.75it/s]\u001b[A\n",
      " 14%|█▎        | 71/525 [00:08<00:51,  8.77it/s]\u001b[A\n",
      " 14%|█▎        | 72/525 [00:08<00:52,  8.69it/s]\u001b[A\n",
      " 14%|█▍        | 73/525 [00:08<00:51,  8.71it/s]\u001b[A\n",
      " 14%|█▍        | 74/525 [00:08<00:52,  8.66it/s]\u001b[A\n",
      " 14%|█▍        | 75/525 [00:08<00:51,  8.72it/s]\u001b[A\n",
      " 14%|█▍        | 76/525 [00:08<00:51,  8.78it/s]\u001b[A\n",
      " 15%|█▍        | 77/525 [00:08<00:50,  8.80it/s]\u001b[A\n",
      " 15%|█▍        | 78/525 [00:08<00:50,  8.77it/s]\u001b[A\n",
      " 15%|█▌        | 79/525 [00:09<00:50,  8.77it/s]\u001b[A\n",
      " 15%|█▌        | 80/525 [00:09<00:50,  8.79it/s]\u001b[A\n",
      " 15%|█▌        | 81/525 [00:09<00:50,  8.76it/s]\u001b[A\n",
      " 16%|█▌        | 82/525 [00:09<00:51,  8.67it/s]\u001b[A\n",
      " 16%|█▌        | 83/525 [00:09<00:51,  8.62it/s]\u001b[A\n",
      " 16%|█▌        | 84/525 [00:09<00:51,  8.60it/s]\u001b[A\n",
      " 16%|█▌        | 85/525 [00:09<00:52,  8.34it/s]\u001b[A\n",
      " 16%|█▋        | 86/525 [00:09<00:51,  8.48it/s]\u001b[A\n",
      " 17%|█▋        | 87/525 [00:09<00:50,  8.64it/s]\u001b[A\n",
      " 17%|█▋        | 88/525 [00:10<00:50,  8.71it/s]\u001b[A\n",
      " 17%|█▋        | 89/525 [00:10<00:49,  8.72it/s]\u001b[A\n",
      " 17%|█▋        | 90/525 [00:10<00:50,  8.67it/s]\u001b[A\n",
      " 17%|█▋        | 91/525 [00:10<00:49,  8.70it/s]\u001b[A\n",
      " 18%|█▊        | 92/525 [00:10<00:49,  8.74it/s]\u001b[A\n",
      " 18%|█▊        | 93/525 [00:10<00:48,  8.84it/s]\u001b[A\n",
      " 18%|█▊        | 94/525 [00:10<00:48,  8.85it/s]\u001b[A\n",
      " 18%|█▊        | 95/525 [00:10<00:48,  8.78it/s]\u001b[A\n",
      " 18%|█▊        | 96/525 [00:10<00:48,  8.81it/s]\u001b[A\n",
      " 18%|█▊        | 97/525 [00:11<00:48,  8.77it/s]\u001b[A\n",
      " 19%|█▊        | 98/525 [00:11<00:48,  8.81it/s]\u001b[A\n",
      " 19%|█▉        | 99/525 [00:11<00:48,  8.80it/s]\u001b[A\n",
      " 19%|█▉        | 100/525 [00:11<00:48,  8.73it/s]\u001b[A\n",
      " 19%|█▉        | 101/525 [00:11<00:48,  8.71it/s]\u001b[A\n",
      " 19%|█▉        | 102/525 [00:11<00:48,  8.67it/s]\u001b[A\n",
      " 20%|█▉        | 103/525 [00:11<00:48,  8.64it/s]\u001b[A\n",
      " 20%|█▉        | 104/525 [00:11<00:49,  8.55it/s]\u001b[A\n",
      " 20%|██        | 105/525 [00:12<00:49,  8.54it/s]\u001b[A\n",
      " 20%|██        | 106/525 [00:12<00:47,  8.78it/s]\u001b[A\n",
      " 20%|██        | 107/525 [00:12<00:47,  8.85it/s]\u001b[A\n",
      " 21%|██        | 108/525 [00:12<00:46,  8.96it/s]\u001b[A\n",
      " 21%|██        | 109/525 [00:12<00:46,  8.96it/s]\u001b[A\n",
      " 21%|██        | 110/525 [00:12<00:46,  8.96it/s]\u001b[A\n",
      " 21%|██        | 111/525 [00:12<00:46,  8.98it/s]\u001b[A\n",
      " 21%|██▏       | 112/525 [00:12<00:46,  8.96it/s]\u001b[A\n",
      " 22%|██▏       | 113/525 [00:12<00:46,  8.93it/s]\u001b[A\n",
      " 22%|██▏       | 114/525 [00:13<00:45,  8.94it/s]\u001b[A\n",
      " 22%|██▏       | 115/525 [00:13<00:45,  8.95it/s]\u001b[A\n",
      " 22%|██▏       | 116/525 [00:13<00:45,  8.93it/s]\u001b[A\n",
      " 22%|██▏       | 117/525 [00:13<00:45,  8.94it/s]\u001b[A\n",
      " 22%|██▏       | 118/525 [00:13<00:45,  8.90it/s]\u001b[A\n",
      " 23%|██▎       | 119/525 [00:13<00:45,  8.86it/s]\u001b[A\n",
      " 23%|██▎       | 120/525 [00:13<00:45,  8.89it/s]\u001b[A\n",
      " 23%|██▎       | 121/525 [00:13<00:45,  8.89it/s]\u001b[A\n",
      " 23%|██▎       | 122/525 [00:13<00:46,  8.65it/s]\u001b[A\n",
      " 23%|██▎       | 123/525 [00:14<00:48,  8.28it/s]\u001b[A\n",
      " 24%|██▎       | 124/525 [00:14<00:49,  8.15it/s]\u001b[A\n",
      " 24%|██▍       | 125/525 [00:14<00:49,  8.10it/s]\u001b[A\n",
      " 24%|██▍       | 126/525 [00:14<00:49,  8.09it/s]\u001b[A\n",
      " 24%|██▍       | 127/525 [00:14<00:48,  8.29it/s]\u001b[A\n",
      " 24%|██▍       | 128/525 [00:14<00:47,  8.43it/s]\u001b[A\n",
      " 25%|██▍       | 129/525 [00:14<00:46,  8.53it/s]\u001b[A\n",
      " 25%|██▍       | 130/525 [00:14<00:46,  8.58it/s]\u001b[A\n",
      " 25%|██▍       | 131/525 [00:15<00:45,  8.72it/s]\u001b[A\n",
      " 25%|██▌       | 132/525 [00:15<00:44,  8.86it/s]\u001b[A\n",
      " 25%|██▌       | 133/525 [00:15<00:45,  8.63it/s]\u001b[A\n",
      " 26%|██▌       | 134/525 [00:15<00:46,  8.45it/s]\u001b[A\n",
      " 26%|██▌       | 135/525 [00:15<00:45,  8.57it/s]\u001b[A\n",
      " 26%|██▌       | 136/525 [00:15<00:45,  8.60it/s]\u001b[A\n",
      " 26%|██▌       | 137/525 [00:15<00:44,  8.66it/s]\u001b[A\n",
      " 26%|██▋       | 138/525 [00:15<00:44,  8.66it/s]\u001b[A\n",
      " 26%|██▋       | 139/525 [00:15<00:44,  8.71it/s]\u001b[A\n",
      " 27%|██▋       | 140/525 [00:16<00:43,  8.77it/s]\u001b[A\n",
      " 27%|██▋       | 141/525 [00:16<00:43,  8.82it/s]\u001b[A\n",
      " 27%|██▋       | 142/525 [00:16<00:43,  8.81it/s]\u001b[A\n",
      " 27%|██▋       | 143/525 [00:16<00:43,  8.83it/s]\u001b[A\n",
      " 27%|██▋       | 144/525 [00:16<00:43,  8.79it/s]\u001b[A\n",
      " 28%|██▊       | 145/525 [00:16<00:43,  8.76it/s]\u001b[A\n",
      " 28%|██▊       | 146/525 [00:16<00:43,  8.74it/s]\u001b[A\n",
      " 28%|██▊       | 147/525 [00:16<00:43,  8.73it/s]\u001b[A\n",
      " 28%|██▊       | 148/525 [00:16<00:42,  8.81it/s]\u001b[A\n",
      " 28%|██▊       | 149/525 [00:17<00:42,  8.92it/s]\u001b[A\n",
      " 29%|██▊       | 150/525 [00:17<00:41,  9.00it/s]\u001b[A\n",
      " 29%|██▉       | 151/525 [00:17<00:41,  9.02it/s]\u001b[A\n",
      " 29%|██▉       | 152/525 [00:17<00:41,  9.04it/s]\u001b[A\n",
      " 29%|██▉       | 153/525 [00:17<00:41,  9.04it/s]\u001b[A\n",
      " 29%|██▉       | 154/525 [00:17<00:40,  9.08it/s]\u001b[A\n",
      " 30%|██▉       | 155/525 [00:17<00:40,  9.07it/s]\u001b[A\n",
      " 30%|██▉       | 156/525 [00:17<00:40,  9.12it/s]\u001b[A\n",
      " 30%|██▉       | 157/525 [00:17<00:40,  9.07it/s]\u001b[A\n",
      " 30%|███       | 158/525 [00:18<00:40,  8.99it/s]\u001b[A\n",
      " 30%|███       | 159/525 [00:18<00:40,  9.02it/s]\u001b[A\n",
      " 30%|███       | 160/525 [00:18<00:40,  9.00it/s]\u001b[A\n",
      " 31%|███       | 161/525 [00:18<00:40,  9.01it/s]\u001b[A\n",
      " 31%|███       | 162/525 [00:18<00:40,  8.99it/s]\u001b[A\n",
      " 31%|███       | 163/525 [00:18<00:40,  8.97it/s]\u001b[A\n",
      " 31%|███       | 164/525 [00:18<00:40,  8.91it/s]\u001b[A\n",
      " 31%|███▏      | 165/525 [00:18<00:40,  8.89it/s]\u001b[A\n",
      " 32%|███▏      | 166/525 [00:18<00:40,  8.82it/s]\u001b[A\n",
      " 32%|███▏      | 167/525 [00:19<00:40,  8.82it/s]\u001b[A\n",
      " 32%|███▏      | 168/525 [00:19<00:40,  8.80it/s]\u001b[A\n",
      " 32%|███▏      | 169/525 [00:19<00:40,  8.87it/s]\u001b[A\n",
      " 32%|███▏      | 170/525 [00:19<00:39,  8.96it/s]\u001b[A\n",
      " 33%|███▎      | 171/525 [00:19<00:39,  9.00it/s]\u001b[A\n",
      " 33%|███▎      | 172/525 [00:19<00:39,  8.96it/s]\u001b[A\n",
      " 33%|███▎      | 173/525 [00:19<00:39,  9.01it/s]\u001b[A\n",
      " 33%|███▎      | 174/525 [00:19<00:39,  8.98it/s]\u001b[A\n",
      " 33%|███▎      | 175/525 [00:19<00:39,  8.94it/s]\u001b[A\n",
      " 34%|███▎      | 176/525 [00:20<00:39,  8.81it/s]\u001b[A\n",
      " 34%|███▎      | 177/525 [00:20<00:39,  8.77it/s]\u001b[A\n",
      " 34%|███▍      | 178/525 [00:20<00:39,  8.76it/s]\u001b[A\n",
      " 34%|███▍      | 179/525 [00:20<00:39,  8.79it/s]\u001b[A\n",
      " 34%|███▍      | 180/525 [00:20<00:39,  8.82it/s]\u001b[A\n",
      " 34%|███▍      | 181/525 [00:20<00:39,  8.80it/s]\u001b[A\n",
      " 35%|███▍      | 182/525 [00:20<00:38,  8.81it/s]\u001b[A\n",
      " 35%|███▍      | 183/525 [00:20<00:38,  8.80it/s]\u001b[A\n",
      " 35%|███▌      | 184/525 [00:20<00:38,  8.75it/s]\u001b[A\n",
      " 35%|███▌      | 185/525 [00:21<00:38,  8.75it/s]\u001b[A\n",
      " 35%|███▌      | 186/525 [00:21<00:38,  8.73it/s]\u001b[A\n",
      " 36%|███▌      | 187/525 [00:21<00:39,  8.62it/s]\u001b[A\n",
      " 36%|███▌      | 188/525 [00:21<00:39,  8.61it/s]\u001b[A\n",
      " 36%|███▌      | 189/525 [00:21<00:39,  8.52it/s]\u001b[A\n",
      " 36%|███▌      | 190/525 [00:21<00:40,  8.24it/s]\u001b[A\n",
      " 36%|███▋      | 191/525 [00:21<00:41,  8.10it/s]\u001b[A\n",
      " 37%|███▋      | 192/525 [00:21<00:40,  8.14it/s]\u001b[A\n",
      " 37%|███▋      | 193/525 [00:22<00:40,  8.27it/s]\u001b[A\n",
      " 37%|███▋      | 194/525 [00:22<00:40,  8.23it/s]\u001b[A\n",
      " 37%|███▋      | 195/525 [00:22<00:40,  8.13it/s]\u001b[A\n",
      " 37%|███▋      | 196/525 [00:22<00:40,  8.20it/s]\u001b[A\n",
      " 38%|███▊      | 197/525 [00:22<00:39,  8.32it/s]\u001b[A\n",
      " 38%|███▊      | 198/525 [00:22<00:38,  8.46it/s]\u001b[A\n",
      " 38%|███▊      | 199/525 [00:22<00:38,  8.48it/s]\u001b[A\n",
      " 38%|███▊      | 200/525 [00:22<00:38,  8.46it/s]\u001b[A\n",
      " 38%|███▊      | 201/525 [00:23<00:37,  8.54it/s]\u001b[A\n",
      " 38%|███▊      | 202/525 [00:23<00:37,  8.63it/s]\u001b[A\n",
      " 39%|███▊      | 203/525 [00:23<00:37,  8.56it/s]\u001b[A\n",
      " 39%|███▉      | 204/525 [00:23<00:37,  8.58it/s]\u001b[A\n",
      " 39%|███▉      | 205/525 [00:23<00:37,  8.60it/s]\u001b[A\n",
      " 39%|███▉      | 206/525 [00:23<00:37,  8.62it/s]\u001b[A\n",
      " 39%|███▉      | 207/525 [00:23<00:36,  8.64it/s]\u001b[A\n",
      " 40%|███▉      | 208/525 [00:23<00:36,  8.57it/s]\u001b[A\n",
      " 40%|███▉      | 209/525 [00:23<00:37,  8.47it/s]\u001b[A\n",
      " 40%|████      | 210/525 [00:24<00:37,  8.49it/s]\u001b[A\n",
      " 40%|████      | 211/525 [00:24<00:36,  8.69it/s]\u001b[A\n",
      " 40%|████      | 212/525 [00:24<00:35,  8.82it/s]\u001b[A\n",
      " 41%|████      | 213/525 [00:24<00:35,  8.91it/s]\u001b[A\n",
      " 41%|████      | 214/525 [00:24<00:34,  8.98it/s]\u001b[A\n",
      " 41%|████      | 215/525 [00:24<00:34,  9.09it/s]\u001b[A\n",
      " 41%|████      | 216/525 [00:24<00:33,  9.16it/s]\u001b[A\n",
      " 41%|████▏     | 217/525 [00:24<00:33,  9.11it/s]\u001b[A\n",
      " 42%|████▏     | 218/525 [00:24<00:33,  9.09it/s]\u001b[A\n",
      " 42%|████▏     | 219/525 [00:25<00:33,  9.12it/s]\u001b[A\n",
      " 42%|████▏     | 220/525 [00:25<00:33,  9.06it/s]\u001b[A\n",
      " 42%|████▏     | 221/525 [00:25<00:33,  9.05it/s]\u001b[A\n",
      " 42%|████▏     | 222/525 [00:25<00:34,  8.73it/s]\u001b[A\n",
      " 42%|████▏     | 223/525 [00:25<00:34,  8.86it/s]\u001b[A\n",
      " 43%|████▎     | 224/525 [00:25<00:33,  8.96it/s]\u001b[A\n",
      " 43%|████▎     | 225/525 [00:25<00:33,  9.03it/s]\u001b[A\n",
      " 43%|████▎     | 226/525 [00:25<00:33,  8.96it/s]\u001b[A\n",
      " 43%|████▎     | 227/525 [00:25<00:33,  8.93it/s]\u001b[A\n",
      " 43%|████▎     | 228/525 [00:26<00:33,  8.88it/s]\u001b[A\n",
      " 44%|████▎     | 229/525 [00:26<00:33,  8.81it/s]\u001b[A\n",
      " 44%|████▍     | 230/525 [00:26<00:33,  8.76it/s]\u001b[A\n",
      " 44%|████▍     | 231/525 [00:26<00:33,  8.76it/s]\u001b[A\n",
      " 44%|████▍     | 232/525 [00:26<00:33,  8.85it/s]\u001b[A\n",
      " 44%|████▍     | 233/525 [00:26<00:32,  8.86it/s]\u001b[A\n",
      " 45%|████▍     | 234/525 [00:26<00:32,  8.87it/s]\u001b[A\n",
      " 45%|████▍     | 235/525 [00:26<00:33,  8.55it/s]\u001b[A\n",
      " 45%|████▍     | 236/525 [00:27<00:35,  8.24it/s]\u001b[A\n",
      " 45%|████▌     | 237/525 [00:27<00:35,  8.23it/s]\u001b[A\n",
      " 45%|████▌     | 238/525 [00:27<00:34,  8.36it/s]\u001b[A\n",
      " 46%|████▌     | 239/525 [00:27<00:33,  8.59it/s]\u001b[A\n",
      " 46%|████▌     | 240/525 [00:27<00:32,  8.77it/s]\u001b[A\n",
      " 46%|████▌     | 241/525 [00:27<00:32,  8.86it/s]\u001b[A\n",
      " 46%|████▌     | 242/525 [00:27<00:31,  8.93it/s]\u001b[A\n",
      " 46%|████▋     | 243/525 [00:27<00:31,  9.00it/s]\u001b[A\n",
      " 46%|████▋     | 244/525 [00:27<00:31,  8.98it/s]\u001b[A\n",
      " 47%|████▋     | 245/525 [00:28<00:31,  9.02it/s]\u001b[A\n",
      " 47%|████▋     | 246/525 [00:28<00:30,  9.02it/s]\u001b[A\n",
      " 47%|████▋     | 247/525 [00:28<00:31,  8.94it/s]\u001b[A\n",
      " 47%|████▋     | 248/525 [00:28<00:31,  8.89it/s]\u001b[A\n",
      " 47%|████▋     | 249/525 [00:28<00:30,  8.91it/s]\u001b[A\n",
      " 48%|████▊     | 250/525 [00:28<00:31,  8.87it/s]\u001b[A\n",
      " 48%|████▊     | 251/525 [00:28<00:30,  8.86it/s]\u001b[A\n",
      " 48%|████▊     | 252/525 [00:28<00:30,  8.86it/s]\u001b[A\n",
      " 48%|████▊     | 253/525 [00:28<00:30,  8.94it/s]\u001b[A\n",
      " 48%|████▊     | 254/525 [00:29<00:30,  8.99it/s]\u001b[A\n",
      " 49%|████▊     | 255/525 [00:29<00:29,  9.00it/s]\u001b[A\n",
      " 49%|████▉     | 256/525 [00:29<00:29,  8.97it/s]\u001b[A\n",
      " 49%|████▉     | 257/525 [00:29<00:29,  8.97it/s]\u001b[A\n",
      " 49%|████▉     | 258/525 [00:29<00:29,  9.02it/s]\u001b[A\n",
      " 49%|████▉     | 259/525 [00:29<00:29,  9.04it/s]\u001b[A\n",
      " 50%|████▉     | 260/525 [00:29<00:29,  9.00it/s]\u001b[A\n",
      " 50%|████▉     | 261/525 [00:29<00:29,  8.97it/s]\u001b[A\n",
      " 50%|████▉     | 262/525 [00:29<00:29,  8.92it/s]\u001b[A\n",
      " 50%|█████     | 263/525 [00:30<00:29,  8.89it/s]\u001b[A\n",
      " 50%|█████     | 264/525 [00:30<00:29,  8.80it/s]\u001b[A\n",
      " 50%|█████     | 265/525 [00:30<00:29,  8.74it/s]\u001b[A\n",
      " 51%|█████     | 266/525 [00:30<00:29,  8.74it/s]\u001b[A\n",
      " 51%|█████     | 267/525 [00:30<00:29,  8.78it/s]\u001b[A\n",
      " 51%|█████     | 268/525 [00:30<00:29,  8.77it/s]\u001b[A\n",
      " 51%|█████     | 269/525 [00:30<00:29,  8.76it/s]\u001b[A\n",
      " 51%|█████▏    | 270/525 [00:30<00:29,  8.73it/s]\u001b[A\n",
      " 52%|█████▏    | 271/525 [00:30<00:29,  8.68it/s]\u001b[A\n",
      " 52%|█████▏    | 272/525 [00:31<00:29,  8.66it/s]\u001b[A\n",
      " 52%|█████▏    | 273/525 [00:31<00:29,  8.58it/s]\u001b[A\n",
      " 52%|█████▏    | 274/525 [00:31<00:29,  8.58it/s]\u001b[A\n",
      " 52%|█████▏    | 275/525 [00:31<00:28,  8.69it/s]\u001b[A\n",
      " 53%|█████▎    | 276/525 [00:31<00:28,  8.79it/s]\u001b[A\n",
      " 53%|█████▎    | 277/525 [00:31<00:28,  8.83it/s]\u001b[A\n",
      " 53%|█████▎    | 278/525 [00:31<00:27,  8.88it/s]\u001b[A\n",
      " 53%|█████▎    | 279/525 [00:31<00:27,  8.84it/s]\u001b[A\n",
      " 53%|█████▎    | 280/525 [00:31<00:27,  8.80it/s]\u001b[A\n",
      " 54%|█████▎    | 281/525 [00:32<00:27,  8.80it/s]\u001b[A\n",
      " 54%|█████▎    | 282/525 [00:32<00:27,  8.83it/s]\u001b[A\n",
      " 54%|█████▍    | 283/525 [00:32<00:27,  8.78it/s]\u001b[A\n",
      " 54%|█████▍    | 284/525 [00:32<00:27,  8.76it/s]\u001b[A\n",
      " 54%|█████▍    | 285/525 [00:32<00:27,  8.78it/s]\u001b[A\n",
      " 54%|█████▍    | 286/525 [00:32<00:27,  8.78it/s]\u001b[A\n",
      " 55%|█████▍    | 287/525 [00:32<00:27,  8.73it/s]\u001b[A\n",
      " 55%|█████▍    | 288/525 [00:32<00:27,  8.61it/s]\u001b[A\n",
      " 55%|█████▌    | 289/525 [00:33<00:27,  8.53it/s]\u001b[A\n",
      " 55%|█████▌    | 290/525 [00:33<00:27,  8.48it/s]\u001b[A\n",
      " 55%|█████▌    | 291/525 [00:33<00:28,  8.25it/s]\u001b[A\n",
      " 56%|█████▌    | 292/525 [00:33<00:29,  7.94it/s]\u001b[A\n",
      " 56%|█████▌    | 293/525 [00:33<00:29,  7.94it/s]\u001b[A\n",
      " 56%|█████▌    | 294/525 [00:33<00:29,  7.95it/s]\u001b[A\n",
      " 56%|█████▌    | 295/525 [00:33<00:28,  8.02it/s]\u001b[A\n",
      " 56%|█████▋    | 296/525 [00:33<00:27,  8.20it/s]\u001b[A\n",
      " 57%|█████▋    | 297/525 [00:34<00:27,  8.31it/s]\u001b[A\n",
      " 57%|█████▋    | 298/525 [00:34<00:26,  8.41it/s]\u001b[A\n",
      " 57%|█████▋    | 299/525 [00:34<00:26,  8.48it/s]\u001b[A\n",
      " 57%|█████▋    | 300/525 [00:34<00:26,  8.47it/s]\u001b[A\n",
      " 57%|█████▋    | 301/525 [00:34<00:26,  8.49it/s]\u001b[A\n",
      " 58%|█████▊    | 302/525 [00:34<00:25,  8.58it/s]\u001b[A\n",
      " 58%|█████▊    | 303/525 [00:34<00:25,  8.69it/s]\u001b[A\n",
      " 58%|█████▊    | 304/525 [00:34<00:25,  8.69it/s]\u001b[A\n",
      " 58%|█████▊    | 305/525 [00:34<00:25,  8.66it/s]\u001b[A\n",
      " 58%|█████▊    | 306/525 [00:35<00:25,  8.63it/s]\u001b[A\n",
      " 58%|█████▊    | 307/525 [00:35<00:25,  8.54it/s]\u001b[A\n",
      " 59%|█████▊    | 308/525 [00:35<00:25,  8.57it/s]\u001b[A\n",
      " 59%|█████▉    | 309/525 [00:35<00:26,  8.29it/s]\u001b[A\n",
      " 59%|█████▉    | 310/525 [00:35<00:25,  8.41it/s]\u001b[A\n",
      " 59%|█████▉    | 311/525 [00:35<00:25,  8.49it/s]\u001b[A\n",
      " 59%|█████▉    | 312/525 [00:35<00:24,  8.52it/s]\u001b[A\n",
      " 60%|█████▉    | 313/525 [00:35<00:24,  8.52it/s]\u001b[A\n",
      " 60%|█████▉    | 314/525 [00:35<00:24,  8.45it/s]\u001b[A\n",
      " 60%|██████    | 315/525 [00:36<00:24,  8.44it/s]\u001b[A\n",
      " 60%|██████    | 316/525 [00:36<00:23,  8.71it/s]\u001b[A\n",
      " 60%|██████    | 317/525 [00:36<00:23,  8.83it/s]\u001b[A\n",
      " 61%|██████    | 318/525 [00:36<00:23,  8.95it/s]\u001b[A\n",
      " 61%|██████    | 319/525 [00:36<00:22,  9.01it/s]\u001b[A\n",
      " 61%|██████    | 320/525 [00:36<00:22,  9.08it/s]\u001b[A\n",
      " 61%|██████    | 321/525 [00:36<00:22,  9.14it/s]\u001b[A\n",
      " 61%|██████▏   | 322/525 [00:36<00:22,  9.14it/s]\u001b[A\n",
      " 62%|██████▏   | 323/525 [00:36<00:22,  9.11it/s]\u001b[A\n",
      " 62%|██████▏   | 324/525 [00:37<00:22,  9.08it/s]\u001b[A\n",
      " 62%|██████▏   | 325/525 [00:37<00:22,  9.06it/s]\u001b[A\n",
      " 62%|██████▏   | 326/525 [00:37<00:21,  9.07it/s]\u001b[A\n",
      " 62%|██████▏   | 327/525 [00:37<00:21,  9.03it/s]\u001b[A\n",
      " 62%|██████▏   | 328/525 [00:37<00:21,  9.07it/s]\u001b[A\n",
      " 63%|██████▎   | 329/525 [00:37<00:21,  9.12it/s]\u001b[A\n",
      " 63%|██████▎   | 330/525 [00:37<00:21,  9.04it/s]\u001b[A\n",
      " 63%|██████▎   | 331/525 [00:37<00:21,  8.99it/s]\u001b[A\n",
      " 63%|██████▎   | 332/525 [00:37<00:21,  8.92it/s]\u001b[A\n",
      " 63%|██████▎   | 333/525 [00:38<00:21,  8.94it/s]\u001b[A\n",
      " 64%|██████▎   | 334/525 [00:38<00:21,  8.84it/s]\u001b[A\n",
      " 64%|██████▍   | 335/525 [00:38<00:21,  8.76it/s]\u001b[A\n",
      " 64%|██████▍   | 336/525 [00:38<00:21,  8.74it/s]\u001b[A\n",
      " 64%|██████▍   | 337/525 [00:38<00:21,  8.89it/s]\u001b[A\n",
      " 64%|██████▍   | 338/525 [00:38<00:20,  8.99it/s]\u001b[A\n",
      " 65%|██████▍   | 339/525 [00:38<00:20,  9.04it/s]\u001b[A\n",
      " 65%|██████▍   | 340/525 [00:38<00:20,  9.03it/s]\u001b[A\n",
      " 65%|██████▍   | 341/525 [00:38<00:20,  9.00it/s]\u001b[A\n",
      " 65%|██████▌   | 342/525 [00:39<00:20,  9.04it/s]\u001b[A\n",
      " 65%|██████▌   | 343/525 [00:39<00:19,  9.11it/s]\u001b[A\n",
      " 66%|██████▌   | 344/525 [00:39<00:20,  9.03it/s]\u001b[A\n",
      " 66%|██████▌   | 345/525 [00:39<00:19,  9.02it/s]\u001b[A\n",
      " 66%|██████▌   | 346/525 [00:39<00:19,  9.00it/s]\u001b[A\n",
      " 66%|██████▌   | 347/525 [00:39<00:19,  8.98it/s]\u001b[A\n",
      " 66%|██████▋   | 348/525 [00:39<00:19,  9.00it/s]\u001b[A\n",
      " 66%|██████▋   | 349/525 [00:39<00:19,  8.91it/s]\u001b[A\n",
      " 67%|██████▋   | 350/525 [00:39<00:19,  8.85it/s]\u001b[A\n",
      " 67%|██████▋   | 351/525 [00:40<00:19,  8.84it/s]\u001b[A\n",
      " 67%|██████▋   | 352/525 [00:40<00:19,  8.74it/s]\u001b[A\n",
      " 67%|██████▋   | 353/525 [00:40<00:19,  8.66it/s]\u001b[A\n",
      " 67%|██████▋   | 354/525 [00:40<00:20,  8.53it/s]\u001b[A\n",
      " 68%|██████▊   | 355/525 [00:40<00:20,  8.31it/s]\u001b[A\n",
      " 68%|██████▊   | 356/525 [00:40<00:20,  8.42it/s]\u001b[A\n",
      " 68%|██████▊   | 357/525 [00:40<00:19,  8.43it/s]\u001b[A\n",
      " 68%|██████▊   | 358/525 [00:40<00:19,  8.51it/s]\u001b[A\n",
      " 68%|██████▊   | 359/525 [00:41<00:19,  8.59it/s]\u001b[A\n",
      " 69%|██████▊   | 360/525 [00:41<00:19,  8.66it/s]\u001b[A\n",
      " 69%|██████▉   | 361/525 [00:41<00:18,  8.66it/s]\u001b[A\n",
      " 69%|██████▉   | 362/525 [00:41<00:18,  8.68it/s]\u001b[A\n",
      " 69%|██████▉   | 363/525 [00:41<00:18,  8.68it/s]\u001b[A\n",
      " 69%|██████▉   | 364/525 [00:41<00:18,  8.66it/s]\u001b[A\n",
      " 70%|██████▉   | 365/525 [00:41<00:18,  8.66it/s]\u001b[A\n",
      " 70%|██████▉   | 366/525 [00:41<00:18,  8.67it/s]\u001b[A\n",
      " 70%|██████▉   | 367/525 [00:41<00:18,  8.70it/s]\u001b[A\n",
      " 70%|███████   | 368/525 [00:42<00:18,  8.68it/s]\u001b[A\n",
      " 70%|███████   | 369/525 [00:42<00:18,  8.66it/s]\u001b[A\n",
      " 70%|███████   | 370/525 [00:42<00:17,  8.66it/s]\u001b[A\n",
      " 71%|███████   | 371/525 [00:42<00:17,  8.66it/s]\u001b[A\n",
      " 71%|███████   | 372/525 [00:42<00:17,  8.67it/s]\u001b[A\n",
      " 71%|███████   | 373/525 [00:42<00:17,  8.65it/s]\u001b[A\n",
      " 71%|███████   | 374/525 [00:42<00:17,  8.61it/s]\u001b[A\n",
      " 71%|███████▏  | 375/525 [00:42<00:17,  8.66it/s]\u001b[A\n",
      " 72%|███████▏  | 376/525 [00:43<00:17,  8.64it/s]\u001b[A\n",
      " 72%|███████▏  | 377/525 [00:43<00:17,  8.61it/s]\u001b[A\n",
      " 72%|███████▏  | 378/525 [00:43<00:17,  8.63it/s]\u001b[A\n",
      " 72%|███████▏  | 379/525 [00:43<00:16,  8.72it/s]\u001b[A\n",
      " 72%|███████▏  | 380/525 [00:43<00:16,  8.81it/s]\u001b[A\n",
      " 73%|███████▎  | 381/525 [00:43<00:16,  8.89it/s]\u001b[A\n",
      " 73%|███████▎  | 382/525 [00:43<00:16,  8.90it/s]\u001b[A\n",
      " 73%|███████▎  | 383/525 [00:43<00:15,  8.93it/s]\u001b[A\n",
      " 73%|███████▎  | 384/525 [00:43<00:15,  8.97it/s]\u001b[A\n",
      " 73%|███████▎  | 385/525 [00:44<00:15,  8.91it/s]\u001b[A\n",
      " 74%|███████▎  | 386/525 [00:44<00:15,  8.93it/s]\u001b[A\n",
      " 74%|███████▎  | 387/525 [00:44<00:15,  8.84it/s]\u001b[A\n",
      " 74%|███████▍  | 388/525 [00:44<00:15,  8.82it/s]\u001b[A\n",
      " 74%|███████▍  | 389/525 [00:44<00:15,  8.78it/s]\u001b[A\n",
      " 74%|███████▍  | 390/525 [00:44<00:15,  8.77it/s]\u001b[A\n",
      " 74%|███████▍  | 391/525 [00:44<00:15,  8.78it/s]\u001b[A\n",
      " 75%|███████▍  | 392/525 [00:44<00:15,  8.79it/s]\u001b[A\n",
      " 75%|███████▍  | 393/525 [00:44<00:15,  8.80it/s]\u001b[A\n",
      " 75%|███████▌  | 394/525 [00:45<00:15,  8.69it/s]\u001b[A\n",
      " 75%|███████▌  | 395/525 [00:45<00:15,  8.55it/s]\u001b[A\n",
      " 75%|███████▌  | 396/525 [00:45<00:15,  8.45it/s]\u001b[A\n",
      " 76%|███████▌  | 397/525 [00:45<00:16,  7.95it/s]\u001b[A\n",
      " 76%|███████▌  | 398/525 [00:45<00:15,  8.06it/s]\u001b[A\n",
      " 76%|███████▌  | 399/525 [00:45<00:15,  8.17it/s]\u001b[A\n",
      " 76%|███████▌  | 400/525 [00:45<00:15,  8.32it/s]\u001b[A\n",
      " 76%|███████▋  | 401/525 [00:45<00:14,  8.45it/s]\u001b[A\n",
      " 77%|███████▋  | 402/525 [00:46<00:14,  8.51it/s]\u001b[A\n",
      " 77%|███████▋  | 403/525 [00:46<00:14,  8.55it/s]\u001b[A\n",
      " 77%|███████▋  | 404/525 [00:46<00:14,  8.61it/s]\u001b[A\n",
      " 77%|███████▋  | 405/525 [00:46<00:13,  8.63it/s]\u001b[A\n",
      " 77%|███████▋  | 406/525 [00:46<00:13,  8.62it/s]\u001b[A\n",
      " 78%|███████▊  | 407/525 [00:46<00:13,  8.67it/s]\u001b[A\n",
      " 78%|███████▊  | 408/525 [00:46<00:13,  8.72it/s]\u001b[A\n",
      " 78%|███████▊  | 409/525 [00:46<00:13,  8.71it/s]\u001b[A\n",
      " 78%|███████▊  | 410/525 [00:46<00:13,  8.70it/s]\u001b[A\n",
      " 78%|███████▊  | 411/525 [00:47<00:13,  8.63it/s]\u001b[A\n",
      " 78%|███████▊  | 412/525 [00:47<00:13,  8.65it/s]\u001b[A\n",
      " 79%|███████▊  | 413/525 [00:47<00:12,  8.62it/s]\u001b[A\n",
      " 79%|███████▉  | 414/525 [00:47<00:12,  8.57it/s]\u001b[A\n",
      " 79%|███████▉  | 415/525 [00:47<00:12,  8.56it/s]\u001b[A\n",
      " 79%|███████▉  | 416/525 [00:47<00:12,  8.57it/s]\u001b[A\n",
      " 79%|███████▉  | 417/525 [00:47<00:12,  8.59it/s]\u001b[A\n",
      " 80%|███████▉  | 418/525 [00:47<00:12,  8.54it/s]\u001b[A\n",
      " 80%|███████▉  | 419/525 [00:48<00:12,  8.47it/s]\u001b[A\n",
      " 80%|████████  | 420/525 [00:48<00:12,  8.42it/s]\u001b[A\n",
      " 80%|████████  | 421/525 [00:48<00:12,  8.65it/s]\u001b[A\n",
      " 80%|████████  | 422/525 [00:48<00:11,  8.82it/s]\u001b[A\n",
      " 81%|████████  | 423/525 [00:48<00:11,  8.92it/s]\u001b[A\n",
      " 81%|████████  | 424/525 [00:48<00:11,  9.01it/s]\u001b[A\n",
      " 81%|████████  | 425/525 [00:48<00:10,  9.09it/s]\u001b[A\n",
      " 81%|████████  | 426/525 [00:48<00:10,  9.13it/s]\u001b[A\n",
      " 81%|████████▏ | 427/525 [00:48<00:10,  9.11it/s]\u001b[A\n",
      " 82%|████████▏ | 428/525 [00:48<00:10,  9.01it/s]\u001b[A\n",
      " 82%|████████▏ | 429/525 [00:49<00:10,  9.03it/s]\u001b[A\n",
      " 82%|████████▏ | 430/525 [00:49<00:10,  9.00it/s]\u001b[A\n",
      " 82%|████████▏ | 431/525 [00:49<00:10,  8.96it/s]\u001b[A\n",
      " 82%|████████▏ | 432/525 [00:49<00:10,  9.02it/s]\u001b[A\n",
      " 82%|████████▏ | 433/525 [00:49<00:10,  9.07it/s]\u001b[A\n",
      " 83%|████████▎ | 434/525 [00:49<00:09,  9.12it/s]\u001b[A\n",
      " 83%|████████▎ | 435/525 [00:49<00:09,  9.13it/s]\u001b[A\n",
      " 83%|████████▎ | 436/525 [00:49<00:09,  9.09it/s]\u001b[A\n",
      " 83%|████████▎ | 437/525 [00:49<00:09,  9.04it/s]\u001b[A\n",
      " 83%|████████▎ | 438/525 [00:50<00:09,  8.99it/s]\u001b[A\n",
      " 84%|████████▎ | 439/525 [00:50<00:09,  8.92it/s]\u001b[A\n",
      " 84%|████████▍ | 440/525 [00:50<00:09,  8.82it/s]\u001b[A\n",
      " 84%|████████▍ | 441/525 [00:50<00:09,  8.72it/s]\u001b[A\n",
      " 84%|████████▍ | 442/525 [00:50<00:09,  8.81it/s]\u001b[A\n",
      " 84%|████████▍ | 443/525 [00:50<00:09,  8.95it/s]\u001b[A\n",
      " 85%|████████▍ | 444/525 [00:50<00:08,  9.02it/s]\u001b[A\n",
      " 85%|████████▍ | 445/525 [00:50<00:08,  9.02it/s]\u001b[A\n",
      " 85%|████████▍ | 446/525 [00:51<00:08,  9.05it/s]\u001b[A\n",
      " 85%|████████▌ | 447/525 [00:51<00:08,  9.06it/s]\u001b[A\n",
      " 85%|████████▌ | 448/525 [00:51<00:08,  9.10it/s]\u001b[A\n",
      " 86%|████████▌ | 449/525 [00:51<00:08,  9.11it/s]\u001b[A\n",
      " 86%|████████▌ | 450/525 [00:51<00:08,  9.14it/s]\u001b[A\n",
      " 86%|████████▌ | 451/525 [00:51<00:08,  9.10it/s]\u001b[A\n",
      " 86%|████████▌ | 452/525 [00:51<00:08,  9.07it/s]\u001b[A\n",
      " 86%|████████▋ | 453/525 [00:51<00:07,  9.07it/s]\u001b[A\n",
      " 86%|████████▋ | 454/525 [00:51<00:07,  9.07it/s]\u001b[A\n",
      " 87%|████████▋ | 455/525 [00:51<00:07,  9.00it/s]\u001b[A\n",
      " 87%|████████▋ | 456/525 [00:52<00:07,  8.98it/s]\u001b[A\n",
      " 87%|████████▋ | 457/525 [00:52<00:07,  8.89it/s]\u001b[A\n",
      " 87%|████████▋ | 458/525 [00:52<00:07,  8.82it/s]\u001b[A\n",
      " 87%|████████▋ | 459/525 [00:52<00:07,  8.45it/s]\u001b[A\n",
      " 88%|████████▊ | 460/525 [00:52<00:07,  8.17it/s]\u001b[A\n",
      " 88%|████████▊ | 461/525 [00:52<00:07,  8.07it/s]\u001b[A\n",
      " 88%|████████▊ | 462/525 [00:52<00:07,  8.02it/s]\u001b[A\n",
      " 88%|████████▊ | 463/525 [00:52<00:07,  8.15it/s]\u001b[A\n",
      " 88%|████████▊ | 464/525 [00:53<00:07,  8.18it/s]\u001b[A\n",
      " 89%|████████▊ | 465/525 [00:53<00:07,  8.22it/s]\u001b[A\n",
      " 89%|████████▉ | 466/525 [00:53<00:07,  8.01it/s]\u001b[A\n",
      " 89%|████████▉ | 467/525 [00:53<00:07,  8.18it/s]\u001b[A\n",
      " 89%|████████▉ | 468/525 [00:53<00:06,  8.35it/s]\u001b[A\n",
      " 89%|████████▉ | 469/525 [00:53<00:06,  8.49it/s]\u001b[A\n",
      " 90%|████████▉ | 470/525 [00:53<00:06,  8.48it/s]\u001b[A\n",
      " 90%|████████▉ | 471/525 [00:53<00:06,  8.51it/s]\u001b[A\n",
      " 90%|████████▉ | 472/525 [00:54<00:06,  8.55it/s]\u001b[A\n",
      " 90%|█████████ | 473/525 [00:54<00:06,  8.61it/s]\u001b[A\n",
      " 90%|█████████ | 474/525 [00:54<00:05,  8.63it/s]\u001b[A\n",
      " 90%|█████████ | 475/525 [00:54<00:05,  8.72it/s]\u001b[A\n",
      " 91%|█████████ | 476/525 [00:54<00:05,  8.76it/s]\u001b[A\n",
      " 91%|█████████ | 477/525 [00:54<00:05,  8.80it/s]\u001b[A\n",
      " 91%|█████████ | 478/525 [00:54<00:05,  8.85it/s]\u001b[A\n",
      " 91%|█████████ | 479/525 [00:54<00:05,  8.89it/s]\u001b[A\n",
      " 91%|█████████▏| 480/525 [00:54<00:05,  8.88it/s]\u001b[A\n",
      " 92%|█████████▏| 481/525 [00:55<00:05,  8.79it/s]\u001b[A\n",
      " 92%|█████████▏| 482/525 [00:55<00:04,  8.64it/s]\u001b[A\n",
      " 92%|█████████▏| 483/525 [00:55<00:04,  8.59it/s]\u001b[A\n",
      " 92%|█████████▏| 484/525 [00:55<00:04,  8.26it/s]\u001b[A\n",
      " 92%|█████████▏| 485/525 [00:55<00:04,  8.43it/s]\u001b[A\n",
      " 93%|█████████▎| 486/525 [00:55<00:04,  8.56it/s]\u001b[A\n",
      " 93%|█████████▎| 487/525 [00:55<00:04,  8.67it/s]\u001b[A\n",
      " 93%|█████████▎| 488/525 [00:55<00:04,  8.78it/s]\u001b[A\n",
      " 93%|█████████▎| 489/525 [00:55<00:04,  8.81it/s]\u001b[A\n",
      " 93%|█████████▎| 490/525 [00:56<00:03,  8.82it/s]\u001b[A\n",
      " 94%|█████████▎| 491/525 [00:56<00:03,  8.67it/s]\u001b[A\n",
      " 94%|█████████▎| 492/525 [00:56<00:03,  8.60it/s]\u001b[A\n",
      " 94%|█████████▍| 493/525 [00:56<00:03,  8.51it/s]\u001b[A\n",
      " 94%|█████████▍| 494/525 [00:56<00:03,  8.50it/s]\u001b[A\n",
      " 94%|█████████▍| 495/525 [00:56<00:03,  8.53it/s]\u001b[A\n",
      " 94%|█████████▍| 496/525 [00:56<00:03,  8.55it/s]\u001b[A\n",
      " 95%|█████████▍| 497/525 [00:56<00:03,  8.57it/s]\u001b[A\n",
      " 95%|█████████▍| 498/525 [00:57<00:03,  8.56it/s]\u001b[A\n",
      " 95%|█████████▌| 499/525 [00:57<00:03,  8.62it/s]\u001b[A\n",
      " 95%|█████████▌| 500/525 [00:57<00:02,  8.61it/s]\u001b[A\n",
      " 95%|█████████▌| 501/525 [00:57<00:02,  8.63it/s]\u001b[A\n",
      " 96%|█████████▌| 502/525 [00:57<00:02,  8.56it/s]\u001b[A\n",
      " 96%|█████████▌| 503/525 [00:57<00:02,  8.53it/s]\u001b[A\n",
      " 96%|█████████▌| 504/525 [00:57<00:02,  8.47it/s]\u001b[A\n",
      " 96%|█████████▌| 505/525 [00:57<00:02,  8.57it/s]\u001b[A\n",
      " 96%|█████████▋| 506/525 [00:57<00:02,  8.60it/s]\u001b[A\n",
      " 97%|█████████▋| 507/525 [00:58<00:02,  8.52it/s]\u001b[A\n",
      " 97%|█████████▋| 508/525 [00:58<00:02,  8.47it/s]\u001b[A\n",
      " 97%|█████████▋| 509/525 [00:58<00:01,  8.46it/s]\u001b[A\n",
      " 97%|█████████▋| 510/525 [00:58<00:01,  8.41it/s]\u001b[A\n",
      " 97%|█████████▋| 511/525 [00:58<00:01,  8.43it/s]\u001b[A\n",
      " 98%|█████████▊| 512/525 [00:58<00:01,  8.48it/s]\u001b[A\n",
      " 98%|█████████▊| 513/525 [00:58<00:01,  8.51it/s]\u001b[A\n",
      " 98%|█████████▊| 514/525 [00:58<00:01,  8.55it/s]\u001b[A\n",
      " 98%|█████████▊| 515/525 [00:59<00:01,  8.55it/s]\u001b[A\n",
      " 98%|█████████▊| 516/525 [00:59<00:01,  8.56it/s]\u001b[A\n",
      " 98%|█████████▊| 517/525 [00:59<00:00,  8.57it/s]\u001b[A\n",
      " 99%|█████████▊| 518/525 [00:59<00:00,  8.56it/s]\u001b[A\n",
      " 99%|█████████▉| 519/525 [00:59<00:00,  8.57it/s]\u001b[A\n",
      " 99%|█████████▉| 520/525 [00:59<00:00,  8.58it/s]\u001b[A\n",
      " 99%|█████████▉| 521/525 [00:59<00:00,  8.59it/s]\u001b[A\n",
      " 99%|█████████▉| 522/525 [00:59<00:00,  8.56it/s]\u001b[A\n",
      "100%|█████████▉| 523/525 [00:59<00:00,  8.53it/s]\u001b[A\n",
      "100%|█████████▉| 524/525 [01:00<00:00,  8.44it/s]\u001b[A\n",
      "100%|██████████| 525/525 [01:00<00:00,  8.72it/s]\u001b[A\n",
      "Run instance segmentation grid-search: 100%|██████████| 1/1 [01:00<00:00, 60.44s/it]\n"
     ]
    },
    {
     "name": "stdout",
     "output_type": "stream",
     "text": [
      "Best grid-search result: 0.5631257631257631 with parmeters:\n",
      " center_distance_threshold = 0.3, boundary_distance_threshold = 0.3, distance_smoothing = 1.0, min_size = 50.0\n",
      "\n"
     ]
    },
    {
     "name": "stderr",
     "output_type": "stream",
     "text": [
      "Run inference for automatic mask generation: 100%|██████████| 79/79 [00:18<00:00,  4.18it/s]\n"
     ]
    }
   ],
   "source": [
    "prediction_folder = inference.run_instance_segmentation_with_decoder(\n",
    "    checkpoint=checkpoint,\n",
    "    model_type=model_type,\n",
    "    experiment_folder=experiment_folder,\n",
    "    val_image_paths=val_image_paths,\n",
    "    val_gt_paths=val_gt_paths,\n",
    "    test_image_paths=test_image_paths,\n",
    ")"
   ]
  },
  {
   "cell_type": "markdown",
   "metadata": {},
   "source": [
    "Quantitative AIS"
   ]
  },
  {
   "cell_type": "code",
   "execution_count": 22,
   "metadata": {
    "execution": {
     "iopub.execute_input": "2024-05-04T22:17:10.606289Z",
     "iopub.status.busy": "2024-05-04T22:17:10.606008Z",
     "iopub.status.idle": "2024-05-04T22:17:13.038080Z",
     "shell.execute_reply": "2024-05-04T22:17:13.037122Z",
     "shell.execute_reply.started": "2024-05-04T22:17:10.606265Z"
    }
   },
   "outputs": [
    {
     "name": "stdout",
     "output_type": "stream",
     "text": [
      "Evaluating /kaggle/working/experiment_dir/DIC-C2DH-HeLa/vit_b_lm/instance_segmentation_with_decoder/inference\n"
     ]
    },
    {
     "name": "stderr",
     "output_type": "stream",
     "text": [
      "Evaluate predictions: 100%|██████████| 79/79 [00:02<00:00, 32.67it/s]"
     ]
    },
    {
     "name": "stdout",
     "output_type": "stream",
     "text": [
      "        msa      sa50      sa75\n",
      "0  0.624173  0.774011  0.738191\n"
     ]
    },
    {
     "name": "stderr",
     "output_type": "stream",
     "text": [
      "\n"
     ]
    }
   ],
   "source": [
    "print(\"Evaluating\", prediction_folder)\n",
    "prediction_paths = sorted(glob(os.path.join(prediction_folder, \"*\")))\n",
    "save_path = os.path.join(experiment_folder, \"results\", \"instance_segmentation_with_decoder.csv\")\n",
    "res = run_evaluation(\n",
    "    gt_paths=test_gt_paths,\n",
    "    prediction_paths=prediction_paths,\n",
    "    save_path=save_path\n",
    ")\n",
    "print(res)"
   ]
  },
  {
   "cell_type": "markdown",
   "metadata": {},
   "source": [
    "Qualitative AIS"
   ]
  },
  {
   "cell_type": "code",
   "execution_count": 23,
   "metadata": {
    "execution": {
     "iopub.execute_input": "2024-05-04T22:17:13.039571Z",
     "iopub.status.busy": "2024-05-04T22:17:13.039235Z",
     "iopub.status.idle": "2024-05-04T22:17:13.043770Z",
     "shell.execute_reply": "2024-05-04T22:17:13.042801Z",
     "shell.execute_reply.started": "2024-05-04T22:17:13.039545Z"
    }
   },
   "outputs": [],
   "source": [
    "# TODO"
   ]
  },
  {
   "cell_type": "markdown",
   "metadata": {},
   "source": [
    "Interactive Segmentation"
   ]
  },
  {
   "cell_type": "markdown",
   "metadata": {},
   "source": [
    "First, using default SAM models"
   ]
  },
  {
   "cell_type": "code",
   "execution_count": 24,
   "metadata": {
    "execution": {
     "iopub.execute_input": "2024-05-04T22:17:13.045209Z",
     "iopub.status.busy": "2024-05-04T22:17:13.044908Z",
     "iopub.status.idle": "2024-05-04T22:17:14.451368Z",
     "shell.execute_reply": "2024-05-04T22:17:14.450336Z",
     "shell.execute_reply.started": "2024-05-04T22:17:13.045184Z"
    }
   },
   "outputs": [],
   "source": [
    "checkpoint=None  # overwrite in case you have custom checkpoints to load models from\n",
    "model_type = \"vit_b\"  # overwrite with your desired choice of model\n",
    "experiment_folder = os.path.join(root_dir, \"experiment_dir\", \"DIC-C2DH-HeLa\", model_type)\n",
    "\n",
    "predictor = get_sam_model(model_type=model_type, checkpoint_path=checkpoint)"
   ]
  },
  {
   "cell_type": "code",
   "execution_count": 25,
   "metadata": {
    "execution": {
     "iopub.execute_input": "2024-05-04T22:17:14.453281Z",
     "iopub.status.busy": "2024-05-04T22:17:14.452885Z",
     "iopub.status.idle": "2024-05-04T22:18:51.990946Z",
     "shell.execute_reply": "2024-05-04T22:18:51.989954Z",
     "shell.execute_reply.started": "2024-05-04T22:17:14.453238Z"
    }
   },
   "outputs": [
    {
     "name": "stderr",
     "output_type": "stream",
     "text": [
      "Run inference with iterative prompting for all images: 100%|██████████| 79/79 [01:37<00:00,  1.23s/it]\n"
     ]
    }
   ],
   "source": [
    "prediction_dir = os.path.join(experiment_folder, \"start_with_point_prompt\")\n",
    "embedding_folder = os.path.join(experiment_folder, \"embeddings\")\n",
    "\n",
    "inference.run_inference_with_iterative_prompting(\n",
    "    predictor=predictor,\n",
    "    image_paths=test_image_paths,\n",
    "    gt_paths=test_gt_paths,\n",
    "    embedding_dir=embedding_folder,\n",
    "    prediction_dir=prediction_dir,\n",
    "    start_with_box_prompt=False,  # overwrite to start with the box prompt\n",
    "    use_masks=False,  # overwrite to use logits masks for iterative prompting\n",
    ")"
   ]
  },
  {
   "cell_type": "markdown",
   "metadata": {},
   "source": [
    "Quantitative for points"
   ]
  },
  {
   "cell_type": "code",
   "execution_count": 26,
   "metadata": {
    "execution": {
     "iopub.execute_input": "2024-05-04T22:18:51.992783Z",
     "iopub.status.busy": "2024-05-04T22:18:51.992363Z",
     "iopub.status.idle": "2024-05-04T22:19:11.203822Z",
     "shell.execute_reply": "2024-05-04T22:19:11.202882Z",
     "shell.execute_reply.started": "2024-05-04T22:18:51.992748Z"
    }
   },
   "outputs": [
    {
     "name": "stdout",
     "output_type": "stream",
     "text": [
      "Evaluating iteration00\n"
     ]
    },
    {
     "name": "stderr",
     "output_type": "stream",
     "text": [
      "Evaluate predictions: 100%|██████████| 79/79 [00:02<00:00, 33.59it/s]\n"
     ]
    },
    {
     "name": "stdout",
     "output_type": "stream",
     "text": [
      "        msa      sa50      sa75\n",
      "0  0.185422  0.259831  0.214434\n",
      "Evaluating iteration01\n"
     ]
    },
    {
     "name": "stderr",
     "output_type": "stream",
     "text": [
      "Evaluate predictions: 100%|██████████| 79/79 [00:02<00:00, 32.84it/s]\n"
     ]
    },
    {
     "name": "stdout",
     "output_type": "stream",
     "text": [
      "        msa      sa50      sa75\n",
      "0  0.316831  0.519859  0.332765\n",
      "Evaluating iteration02\n"
     ]
    },
    {
     "name": "stderr",
     "output_type": "stream",
     "text": [
      "Evaluate predictions: 100%|██████████| 79/79 [00:02<00:00, 33.21it/s]\n"
     ]
    },
    {
     "name": "stdout",
     "output_type": "stream",
     "text": [
      "        msa      sa50      sa75\n",
      "0  0.369596  0.594665  0.390151\n",
      "Evaluating iteration03\n"
     ]
    },
    {
     "name": "stderr",
     "output_type": "stream",
     "text": [
      "Evaluate predictions: 100%|██████████| 79/79 [00:02<00:00, 32.29it/s]\n"
     ]
    },
    {
     "name": "stdout",
     "output_type": "stream",
     "text": [
      "        msa      sa50      sa75\n",
      "0  0.408042  0.654834  0.434104\n",
      "Evaluating iteration04\n"
     ]
    },
    {
     "name": "stderr",
     "output_type": "stream",
     "text": [
      "Evaluate predictions: 100%|██████████| 79/79 [00:02<00:00, 33.52it/s]\n"
     ]
    },
    {
     "name": "stdout",
     "output_type": "stream",
     "text": [
      "       msa      sa50      sa75\n",
      "0  0.43239  0.684364  0.470201\n",
      "Evaluating iteration05\n"
     ]
    },
    {
     "name": "stderr",
     "output_type": "stream",
     "text": [
      "Evaluate predictions: 100%|██████████| 79/79 [00:02<00:00, 33.48it/s]\n"
     ]
    },
    {
     "name": "stdout",
     "output_type": "stream",
     "text": [
      "        msa      sa50      sa75\n",
      "0  0.441917  0.714746  0.473958\n",
      "Evaluating iteration06\n"
     ]
    },
    {
     "name": "stderr",
     "output_type": "stream",
     "text": [
      "Evaluate predictions: 100%|██████████| 79/79 [00:02<00:00, 32.16it/s]\n"
     ]
    },
    {
     "name": "stdout",
     "output_type": "stream",
     "text": [
      "        msa     sa50      sa75\n",
      "0  0.455805  0.72714  0.496399\n",
      "Evaluating iteration07\n"
     ]
    },
    {
     "name": "stderr",
     "output_type": "stream",
     "text": [
      "Evaluate predictions: 100%|██████████| 79/79 [00:02<00:00, 32.97it/s]"
     ]
    },
    {
     "name": "stdout",
     "output_type": "stream",
     "text": [
      "        msa     sa50      sa75\n",
      "0  0.456492  0.73958  0.497296\n"
     ]
    },
    {
     "name": "stderr",
     "output_type": "stream",
     "text": [
      "\n"
     ]
    }
   ],
   "source": [
    "run_evaluation_for_iterative_prompting(\n",
    "    gt_paths=test_gt_paths,\n",
    "    prediction_root=prediction_dir,\n",
    "    experiment_folder=experiment_folder,\n",
    "    start_with_box_prompt=False,\n",
    ")"
   ]
  },
  {
   "cell_type": "code",
   "execution_count": null,
   "metadata": {},
   "outputs": [],
   "source": []
  }
 ],
 "metadata": {
  "kaggle": {
   "accelerator": "gpu",
   "dataSources": [],
   "dockerImageVersionId": 30699,
   "isGpuEnabled": true,
   "isInternetEnabled": true,
   "language": "python",
   "sourceType": "notebook"
  },
  "kernelspec": {
   "display_name": "Python 3",
   "language": "python",
   "name": "python3"
  },
  "language_info": {
   "codemirror_mode": {
    "name": "ipython",
    "version": 3
   },
   "file_extension": ".py",
   "mimetype": "text/x-python",
   "name": "python",
   "nbconvert_exporter": "python",
   "pygments_lexer": "ipython3",
   "version": "3.10.13"
  }
 },
 "nbformat": 4,
 "nbformat_minor": 4
}
